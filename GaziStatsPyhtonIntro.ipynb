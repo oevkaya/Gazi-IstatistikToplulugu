{
  "nbformat": 4,
  "nbformat_minor": 0,
  "metadata": {
    "colab": {
      "name": "GaziStatsPyhtonIntro.ipynb",
      "provenance": [],
      "collapsed_sections": []
    },
    "kernelspec": {
      "name": "python3",
      "display_name": "Python 3"
    },
    "language_info": {
      "name": "python"
    }
  },
  "cells": [
    {
      "cell_type": "markdown",
      "metadata": {
        "id": "wsKJAgbXF45b"
      },
      "source": [
        " ![intro.jpg](data:image/jpeg;base64,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)"
      ]
    },
    {
      "cell_type": "markdown",
      "metadata": {
        "id": "lttzDapKfPLu"
      },
      "source": [
        "**Pyhton ile Temel İstatistik**"
      ]
    },
    {
      "cell_type": "code",
      "metadata": {
        "id": "rUafBN19F978",
        "colab": {
          "base_uri": "https://localhost:8080/"
        },
        "outputId": "ff0c8b90-d98e-4fe6-9184-e8ccd0bc5d5a"
      },
      "source": [
        "# Temel kavramlar\n",
        "# Değişkene değer atama \n",
        "x = 5\n",
        "print(x)\n",
        "\n",
        "print(\"Pyhton ile temel istatistik dersine hoşgeldiniz\")\n",
        "print('Pyhton ile temel istatistik dersine hoşgeldiniz')"
      ],
      "execution_count": null,
      "outputs": [
        {
          "output_type": "stream",
          "text": [
            "5\n",
            "Pyhton ile temel istatistik dersine hoşgeldiniz\n",
            "Pyhton ile temel istatistik dersine hoşgeldiniz\n"
          ],
          "name": "stdout"
        }
      ]
    },
    {
      "cell_type": "code",
      "metadata": {
        "colab": {
          "base_uri": "https://localhost:8080/"
        },
        "id": "aSvMbe9TKu0W",
        "outputId": "452f8aae-690e-4e21-fbe0-833423848d44"
      },
      "source": [
        "# Veri türlerine dair\n",
        "type(x)\n",
        "\n",
        "x = str(3)    # x will be '3'\n",
        "y = int(3)    # y will be 3\n",
        "z = float(3)\n",
        "\n",
        "print(type(x))\n",
        "print(type(y))\n",
        "print(type(z))"
      ],
      "execution_count": null,
      "outputs": [
        {
          "output_type": "stream",
          "text": [
            "<class 'str'>\n",
            "<class 'int'>\n",
            "<class 'float'>\n"
          ],
          "name": "stdout"
        }
      ]
    },
    {
      "cell_type": "code",
      "metadata": {
        "colab": {
          "base_uri": "https://localhost:8080/"
        },
        "id": "atKNbacWLMNP",
        "outputId": "8856c9e6-a79e-4b24-a191-41da244c0e87"
      },
      "source": [
        "# Birden fazla değişken atamaya dair\n",
        "x, y, z = \"Gazi\", \"İstatistik\", \"Python\"\n",
        "print(x)\n",
        "print(y)\n",
        "print(z)\n",
        "\n",
        "print(x + y)"
      ],
      "execution_count": null,
      "outputs": [
        {
          "output_type": "stream",
          "text": [
            "Gazi\n",
            "İstatistik\n",
            "Python\n",
            "Gaziİstatistik\n"
          ],
          "name": "stdout"
        }
      ]
    },
    {
      "cell_type": "markdown",
      "metadata": {
        "id": "sZv-Jc7VMxvq"
      },
      "source": [
        "Genel veri türlerine dair; \n",
        "\n",
        "Text Type:\t**str**\n",
        "\n",
        "Numeric Types:\t**int, float**, complex\n",
        "\n",
        "Sequence Types:\t**list, tuple**, range\n",
        "\n",
        "Mapping Type:\t**dict**\n",
        "\n",
        "Set Types:\t**set**, frozenset\n",
        "\n",
        "Boolean Type:\t**bool**\n",
        "\n",
        "Binary Types:\tbytes, bytearray, memoryview"
      ]
    },
    {
      "cell_type": "code",
      "metadata": {
        "colab": {
          "base_uri": "https://localhost:8080/"
        },
        "id": "QJPn_DNg9vjc",
        "outputId": "4f26873f-d907-4b0a-9e27-9565aea5dba5"
      },
      "source": [
        "print(type(x))\n",
        "a= \"Ozan\"\n",
        "print(type(a))"
      ],
      "execution_count": null,
      "outputs": [
        {
          "output_type": "stream",
          "text": [
            "<class 'str'>\n",
            "<class 'str'>\n"
          ],
          "name": "stdout"
        }
      ]
    },
    {
      "cell_type": "code",
      "metadata": {
        "colab": {
          "base_uri": "https://localhost:8080/",
          "height": 183
        },
        "id": "iwbYGqQs5EZk",
        "outputId": "7307bd02-637e-4c7b-a297-f3e613662ee7"
      },
      "source": [
        "print(x**2)\n",
        "x + 5"
      ],
      "execution_count": null,
      "outputs": [
        {
          "output_type": "error",
          "ename": "TypeError",
          "evalue": "ignored",
          "traceback": [
            "\u001b[0;31m---------------------------------------------------------------------------\u001b[0m",
            "\u001b[0;31mTypeError\u001b[0m                                 Traceback (most recent call last)",
            "\u001b[0;32m<ipython-input-5-69835509a547>\u001b[0m in \u001b[0;36m<module>\u001b[0;34m()\u001b[0m\n\u001b[0;32m----> 1\u001b[0;31m \u001b[0mprint\u001b[0m\u001b[0;34m(\u001b[0m\u001b[0mx\u001b[0m\u001b[0;34m**\u001b[0m\u001b[0;36m2\u001b[0m\u001b[0;34m)\u001b[0m\u001b[0;34m\u001b[0m\u001b[0;34m\u001b[0m\u001b[0m\n\u001b[0m\u001b[1;32m      2\u001b[0m \u001b[0mx\u001b[0m \u001b[0;34m+\u001b[0m \u001b[0;36m5\u001b[0m\u001b[0;34m\u001b[0m\u001b[0;34m\u001b[0m\u001b[0m\n",
            "\u001b[0;31mTypeError\u001b[0m: unsupported operand type(s) for ** or pow(): 'str' and 'int'"
          ]
        }
      ]
    },
    {
      "cell_type": "code",
      "metadata": {
        "colab": {
          "base_uri": "https://localhost:8080/"
        },
        "id": "OPpoRHN99_fT",
        "outputId": "413054cd-328d-47d0-b829-faaa31482667"
      },
      "source": [
        "# Temel aritmetik işlemlere dair \n",
        "\n",
        "x = 10\n",
        "\n",
        "print(x+2)\n",
        "print(x-2)\n",
        "print(x*2)\n",
        "print(x**2)\n",
        "print(x/2)\n",
        "print(x//2) \n",
        "print(x%2) \n",
        "\n",
        "# print(\"Başka türlü bir yöntem\")\n",
        "z = 5\n",
        "z += 1 # z = z + 1\n",
        "print(z)"
      ],
      "execution_count": null,
      "outputs": [
        {
          "output_type": "stream",
          "text": [
            "12\n",
            "8\n",
            "20\n",
            "100\n",
            "5.0\n",
            "5\n",
            "0\n",
            "6\n"
          ],
          "name": "stdout"
        }
      ]
    },
    {
      "cell_type": "code",
      "metadata": {
        "colab": {
          "base_uri": "https://localhost:8080/"
        },
        "id": "aCU5aPxP_OWg",
        "outputId": "355e74b4-07ff-47ac-b5fb-da002d06d617"
      },
      "source": [
        "m = 8\n",
        "print(type(m))\n",
        "print(float(m))\n",
        "print(m)"
      ],
      "execution_count": null,
      "outputs": [
        {
          "output_type": "stream",
          "text": [
            "<class 'int'>\n",
            "8.0\n",
            "8\n"
          ],
          "name": "stdout"
        }
      ]
    },
    {
      "cell_type": "code",
      "metadata": {
        "colab": {
          "base_uri": "https://localhost:8080/"
        },
        "id": "IOs2krPe-cm_",
        "outputId": "d3a27b64-bee0-4d5d-99b2-0037f9a90dd7"
      },
      "source": [
        "#Mantıksal İşlemler\n",
        "\n",
        "t, f = True, False\n",
        "print(type(t))\n",
        "\n",
        "t + f"
      ],
      "execution_count": null,
      "outputs": [
        {
          "output_type": "stream",
          "text": [
            "<class 'bool'>\n"
          ],
          "name": "stdout"
        },
        {
          "output_type": "execute_result",
          "data": {
            "text/plain": [
              "1"
            ]
          },
          "metadata": {
            "tags": []
          },
          "execution_count": 8
        }
      ]
    },
    {
      "cell_type": "code",
      "metadata": {
        "colab": {
          "base_uri": "https://localhost:8080/",
          "height": 35
        },
        "id": "3g-3jkii5PPd",
        "outputId": "a8711a44-6d99-4495-aa43-15008b4f3c45"
      },
      "source": [
        "# Değişken çeşitleri ve temel dönüşümler \n",
        "my_string = \"Gazi İstatistik\"\n",
        "my_string"
      ],
      "execution_count": null,
      "outputs": [
        {
          "output_type": "execute_result",
          "data": {
            "application/vnd.google.colaboratory.intrinsic+json": {
              "type": "string"
            },
            "text/plain": [
              "'Gazi İstatistik'"
            ]
          },
          "metadata": {
            "tags": []
          },
          "execution_count": 9
        }
      ]
    },
    {
      "cell_type": "code",
      "metadata": {
        "colab": {
          "base_uri": "https://localhost:8080/"
        },
        "id": "4DidgJLA5fDE",
        "outputId": "11af6585-ce59-42bd-952a-11b4039787b1"
      },
      "source": [
        "print(my_string * 2)\n",
        "print(my_string + \" Topluluğu\") "
      ],
      "execution_count": null,
      "outputs": [
        {
          "output_type": "stream",
          "text": [
            "Gazi İstatistikGazi İstatistik\n",
            "Gazi İstatistik Topluluğu\n"
          ],
          "name": "stdout"
        }
      ]
    },
    {
      "cell_type": "code",
      "metadata": {
        "colab": {
          "base_uri": "https://localhost:8080/"
        },
        "id": "KKl_4U-Q5rTd",
        "outputId": "2048db19-b177-4597-bcab-83977c70d3cc"
      },
      "source": [
        "\"G\" in my_string "
      ],
      "execution_count": null,
      "outputs": [
        {
          "output_type": "execute_result",
          "data": {
            "text/plain": [
              "True"
            ]
          },
          "metadata": {
            "tags": []
          },
          "execution_count": 34
        }
      ]
    },
    {
      "cell_type": "code",
      "metadata": {
        "colab": {
          "base_uri": "https://localhost:8080/"
        },
        "id": "Ja_SIjiv6XlW",
        "outputId": "6f2875dd-b4bd-400d-d8a1-1262cb1bc189"
      },
      "source": [
        "print(my_string)\n",
        "print(my_string[4])\n",
        "print(my_string[4:6])\n"
      ],
      "execution_count": null,
      "outputs": [
        {
          "output_type": "stream",
          "text": [
            "Gazi İstatistik\n",
            " \n",
            " İ\n"
          ],
          "name": "stdout"
        }
      ]
    },
    {
      "cell_type": "code",
      "metadata": {
        "colab": {
          "base_uri": "https://localhost:8080/",
          "height": 35
        },
        "id": "HAZv7mvA6cvN",
        "outputId": "5e4f73d6-1595-4a4a-9ead-31eec2e61f4e"
      },
      "source": [
        "# Bazı temel string işlemleri\n",
        "#my_string.upper()\n",
        "my_string.lower()\n",
        "# my_string.replace(\"s\", \"S\")\n"
      ],
      "execution_count": null,
      "outputs": [
        {
          "output_type": "execute_result",
          "data": {
            "application/vnd.google.colaboratory.intrinsic+json": {
              "type": "string"
            },
            "text/plain": [
              "'gazi i̇statistik'"
            ]
          },
          "metadata": {
            "tags": []
          },
          "execution_count": 12
        }
      ]
    },
    {
      "cell_type": "code",
      "metadata": {
        "colab": {
          "base_uri": "https://localhost:8080/"
        },
        "id": "AGxAK30qN9D-",
        "outputId": "65c7deda-bd39-4f47-b5a1-fee5e342ea4d"
      },
      "source": [
        "age = 33\n",
        "txt = \"My name is Ozan, and I am {} years old\"\n",
        "print(txt)\n",
        "print(txt.format(age))"
      ],
      "execution_count": null,
      "outputs": [
        {
          "output_type": "stream",
          "text": [
            "My name is Ozan, and I am {} years old\n",
            "My name is Ozan, and I am 33 years old\n"
          ],
          "name": "stdout"
        }
      ]
    },
    {
      "cell_type": "code",
      "metadata": {
        "colab": {
          "base_uri": "https://localhost:8080/"
        },
        "id": "29C45RvR5xze",
        "outputId": "e1d5d962-d754-48a7-bdcb-1bf5ee91de7e"
      },
      "source": [
        "a = 'Gazi'\n",
        "b = 'İstatistik'\n",
        "my_list = ['my', 'list', a, b]\n",
        "print(my_list)\n",
        "\n",
        "my_list2 = [1 , 3]\n",
        "print(my_list2)\n",
        "\n",
        "my_list3 = [[4,5,6,7], [3,4,5,6]]\n",
        "print(my_list3)"
      ],
      "execution_count": null,
      "outputs": [
        {
          "output_type": "stream",
          "text": [
            "['my', 'list', 'Gazi', 'İstatistik']\n",
            "[1, 3]\n",
            "[[4, 5, 6, 7], [3, 4, 5, 6]]\n"
          ],
          "name": "stdout"
        }
      ]
    },
    {
      "cell_type": "code",
      "metadata": {
        "id": "MsnmXkvh6ODh",
        "colab": {
          "base_uri": "https://localhost:8080/"
        },
        "outputId": "bf54b44e-d3ab-4f82-8972-a817e4541826"
      },
      "source": [
        "my_list3[0][3]"
      ],
      "execution_count": null,
      "outputs": [
        {
          "output_type": "execute_result",
          "data": {
            "text/plain": [
              "7"
            ]
          },
          "metadata": {
            "tags": []
          },
          "execution_count": 15
        }
      ]
    },
    {
      "cell_type": "code",
      "metadata": {
        "colab": {
          "base_uri": "https://localhost:8080/",
          "height": 53
        },
        "id": "0KEdrWFc5-cq",
        "outputId": "e51571f1-a171-43f1-a50d-3942e6f47846"
      },
      "source": [
        "liste = [a , b, [4,5,6,7]]\n",
        "liste\n",
        "print(liste)\n",
        "liste[0]"
      ],
      "execution_count": null,
      "outputs": [
        {
          "output_type": "stream",
          "text": [
            "['Gazi', 'İstatistik', [4, 5, 6, 7]]\n"
          ],
          "name": "stdout"
        },
        {
          "output_type": "execute_result",
          "data": {
            "application/vnd.google.colaboratory.intrinsic+json": {
              "type": "string"
            },
            "text/plain": [
              "'Gazi'"
            ]
          },
          "metadata": {
            "tags": []
          },
          "execution_count": 16
        }
      ]
    },
    {
      "cell_type": "code",
      "metadata": {
        "colab": {
          "base_uri": "https://localhost:8080/"
        },
        "id": "zeDZmj5BXfa_",
        "outputId": "0f108281-dc5a-42cc-bba0-90f3872cd121"
      },
      "source": [
        "print(range(10))\n",
        "L = list(range(10))\n",
        "print(L)\n",
        "print(type(L))"
      ],
      "execution_count": null,
      "outputs": [
        {
          "output_type": "stream",
          "text": [
            "range(0, 10)\n",
            "[0, 1, 2, 3, 4, 5, 6, 7, 8, 9]\n",
            "<class 'list'>\n"
          ],
          "name": "stdout"
        }
      ]
    },
    {
      "cell_type": "code",
      "metadata": {
        "id": "HEpuIy8eXj-2",
        "colab": {
          "base_uri": "https://localhost:8080/"
        },
        "outputId": "e7d90667-fc4d-45be-c88c-e773e2d82618"
      },
      "source": [
        "L3 = [True, \"2\", 3.0, 4]\n",
        "[type(item) for item in L3]\n"
      ],
      "execution_count": null,
      "outputs": [
        {
          "output_type": "execute_result",
          "data": {
            "text/plain": [
              "[bool, str, float, int]"
            ]
          },
          "metadata": {
            "tags": []
          },
          "execution_count": 17
        }
      ]
    },
    {
      "cell_type": "code",
      "metadata": {
        "colab": {
          "base_uri": "https://localhost:8080/",
          "height": 35
        },
        "id": "V96qaQhI-pJA",
        "outputId": "30510746-ad90-406a-c759-e5abf851da12"
      },
      "source": [
        "my_list\n",
        "# Listeden tekli seçim yapma\n",
        "my_list[1]\n",
        "my_list[-3]\n",
        "# Listeden birden fazla eleman seçimi\n",
        "my_list[1:3]\n",
        "my_list[1:]\n",
        "my_list[:3]\n",
        "my_list[:]\n",
        "# Liste içerisinde liste seçimi\n",
        "my_list2[1][0]\n",
        "my_list2[1][:2]"
      ],
      "execution_count": null,
      "outputs": [
        {
          "output_type": "execute_result",
          "data": {
            "application/vnd.google.colaboratory.intrinsic+json": {
              "type": "string"
            },
            "text/plain": [
              "'list'"
            ]
          },
          "metadata": {
            "tags": []
          },
          "execution_count": 121
        }
      ]
    },
    {
      "cell_type": "code",
      "metadata": {
        "colab": {
          "base_uri": "https://localhost:8080/"
        },
        "id": "hWNbpytM5TGO",
        "outputId": "1e41aa4b-1005-4295-b3f2-6ae5d6d701bc"
      },
      "source": [
        "print(my_list)\n",
        "print(my_list[1])\n",
        "print(my_list[-3])"
      ],
      "execution_count": null,
      "outputs": [
        {
          "output_type": "stream",
          "text": [
            "['my', 'list', 'Gazi', 'İstatistik']\n",
            "list\n",
            "list\n"
          ],
          "name": "stdout"
        }
      ]
    },
    {
      "cell_type": "code",
      "metadata": {
        "colab": {
          "base_uri": "https://localhost:8080/"
        },
        "id": "zFcS9wXyEyDL",
        "outputId": "03f2d70a-0dc5-4257-c777-e6cb5c78c25b"
      },
      "source": [
        "#Liste üzerine işlemler \n",
        "mylist = [3, 5, 6, 7] \n",
        "print(mylist)\n",
        "\n",
        "print(mylist.index(3))\n",
        "\n",
        "mylist.append(3)\n",
        "print(mylist)\n",
        "\n",
        "mylist.count(3)\n",
        "\n"
      ],
      "execution_count": null,
      "outputs": [
        {
          "output_type": "stream",
          "text": [
            "[3, 5, 6, 7]\n",
            "0\n",
            "[3, 5, 6, 7, 3]\n"
          ],
          "name": "stdout"
        },
        {
          "output_type": "execute_result",
          "data": {
            "text/plain": [
              "2"
            ]
          },
          "metadata": {
            "tags": []
          },
          "execution_count": 19
        }
      ]
    },
    {
      "cell_type": "code",
      "metadata": {
        "colab": {
          "base_uri": "https://localhost:8080/"
        },
        "id": "mwGLr77vF_hM",
        "outputId": "92c83d08-c804-4bd6-b8d5-b8d42407a36c"
      },
      "source": [
        "print(mylist)\n",
        "mylist.insert(0, 10)\n",
        "print(mylist)"
      ],
      "execution_count": null,
      "outputs": [
        {
          "output_type": "stream",
          "text": [
            "[3, 5, 6, 7, 3]\n",
            "[10, 3, 5, 6, 7, 3]\n"
          ],
          "name": "stdout"
        }
      ]
    },
    {
      "cell_type": "code",
      "metadata": {
        "colab": {
          "base_uri": "https://localhost:8080/"
        },
        "id": "w0Dvrpj_GLaY",
        "outputId": "1c017062-cb75-46e4-dcaf-6d4f95850d61"
      },
      "source": [
        "mylist2 = [1,5,9,3,6,7,8]\n",
        "print(mylist2)\n",
        "mylist2.append(\"orange\")\n",
        "print(mylist2)\n",
        "\n",
        "mylist2.insert(1, \"orange\")\n",
        "print(mylist2)"
      ],
      "execution_count": null,
      "outputs": [
        {
          "output_type": "stream",
          "text": [
            "[1, 5, 9, 3, 6, 7, 8]\n",
            "[1, 5, 9, 3, 6, 7, 8, 'orange']\n",
            "[1, 'orange', 5, 9, 3, 6, 7, 8, 'orange']\n"
          ],
          "name": "stdout"
        }
      ]
    },
    {
      "cell_type": "code",
      "metadata": {
        "colab": {
          "base_uri": "https://localhost:8080/"
        },
        "id": "s1ejg2rEGlgZ",
        "outputId": "98bb3459-4363-4dec-a05e-fd24cb4f9c39"
      },
      "source": [
        "# harfler listesi\n",
        "vowels = ['e', 'a', 'u', 'o', 'i']\n",
        "print(vowels)\n",
        "# harfleri sıralama\n",
        "vowels.sort()\n",
        "\n",
        "#Sıralı olarak yazdırma\n",
        "print('Sıralı liste:', vowels)"
      ],
      "execution_count": null,
      "outputs": [
        {
          "output_type": "stream",
          "text": [
            "['e', 'a', 'u', 'o', 'i']\n",
            "Sıralı liste: ['a', 'e', 'i', 'o', 'u']\n"
          ],
          "name": "stdout"
        }
      ]
    },
    {
      "cell_type": "code",
      "metadata": {
        "colab": {
          "base_uri": "https://localhost:8080/"
        },
        "id": "Cc1LssOmG154",
        "outputId": "05a8d62f-4b42-48ea-8c55-b18457e6a858"
      },
      "source": [
        "vowels.sort(reverse=True)\n",
        "print(vowels)"
      ],
      "execution_count": null,
      "outputs": [
        {
          "output_type": "stream",
          "text": [
            "['u', 'o', 'i', 'e', 'a']\n"
          ],
          "name": "stdout"
        }
      ]
    },
    {
      "cell_type": "code",
      "metadata": {
        "colab": {
          "base_uri": "https://localhost:8080/"
        },
        "id": "UKP6ba-lMxWv",
        "outputId": "041dbfee-c987-422d-f68b-3aa3a0fc8328"
      },
      "source": [
        "# Tuple tanımı \n",
        "\n",
        "thistuple = (\"Gazi\", \"İstatistik\", \"Topluluğu\")\n",
        "print(thistuple)\n",
        "print(type(thistuple))\n",
        "\n",
        "print(len(thistuple)) # len fonksiyon ile uzunluğu hesaplanabilir"
      ],
      "execution_count": null,
      "outputs": [
        {
          "output_type": "stream",
          "text": [
            "('Gazi', 'İstatistik', 'Topluluğu')\n",
            "<class 'tuple'>\n",
            "3\n"
          ],
          "name": "stdout"
        }
      ]
    },
    {
      "cell_type": "code",
      "metadata": {
        "colab": {
          "base_uri": "https://localhost:8080/"
        },
        "id": "7vWyVuJEM8-1",
        "outputId": "682d1032-25b2-4a55-ecbd-f3cc3af19211"
      },
      "source": [
        "thistuple = (\"Gazi\",)\n",
        "print(type(thistuple))\n",
        "\n",
        "# Tuple tanımına uygun değil !\n",
        "thistuple = (\"İstatistik\")\n",
        "print(type(thistuple))"
      ],
      "execution_count": null,
      "outputs": [
        {
          "output_type": "stream",
          "text": [
            "<class 'tuple'>\n",
            "<class 'str'>\n"
          ],
          "name": "stdout"
        }
      ]
    },
    {
      "cell_type": "code",
      "metadata": {
        "colab": {
          "base_uri": "https://localhost:8080/"
        },
        "id": "cV-aCz-sNEP5",
        "outputId": "f6952b4d-6518-498a-9d48-89ce0b82dcc8"
      },
      "source": [
        "tuple1 = (\"abc\", 34, True, 40, \"male\")\n",
        "print(tuple1)"
      ],
      "execution_count": null,
      "outputs": [
        {
          "output_type": "stream",
          "text": [
            "('abc', 34, True, 40, 'male')\n"
          ],
          "name": "stdout"
        }
      ]
    },
    {
      "cell_type": "code",
      "metadata": {
        "colab": {
          "base_uri": "https://localhost:8080/"
        },
        "id": "wUAsaAwyNH93",
        "outputId": "5cf42a11-4472-4ef5-c864-d41585f249fc"
      },
      "source": [
        "print(tuple1[1]) \n",
        "print(tuple1[-1])"
      ],
      "execution_count": null,
      "outputs": [
        {
          "output_type": "stream",
          "text": [
            "34\n",
            "male\n"
          ],
          "name": "stdout"
        }
      ]
    },
    {
      "cell_type": "code",
      "metadata": {
        "colab": {
          "base_uri": "https://localhost:8080/"
        },
        "id": "cqOdOxCaNa9g",
        "outputId": "0a8c215b-b2fd-4f18-eeaf-198ff659901f"
      },
      "source": [
        "# Set tanımı\n",
        "thisset = {\"Gazi\", \"İstatistik\", \"Pyhton\"}\n",
        "print(thisset)\n",
        "print(type(thisset))"
      ],
      "execution_count": null,
      "outputs": [
        {
          "output_type": "stream",
          "text": [
            "{'İstatistik', 'Gazi', 'Pyhton'}\n",
            "<class 'set'>\n"
          ],
          "name": "stdout"
        }
      ]
    },
    {
      "cell_type": "code",
      "metadata": {
        "colab": {
          "base_uri": "https://localhost:8080/"
        },
        "id": "-ZRpD8UQNe22",
        "outputId": "2fa04fc8-2ec5-4441-a6ad-0d42dffd0b2f"
      },
      "source": [
        "thisset = {\"Gazi\", \"İstatistik\", \"Pyhton\", \"Gazi\"}\n",
        "\n",
        "print(thisset)"
      ],
      "execution_count": null,
      "outputs": [
        {
          "output_type": "stream",
          "text": [
            "{'İstatistik', 'Gazi', 'Pyhton'}\n"
          ],
          "name": "stdout"
        }
      ]
    },
    {
      "cell_type": "code",
      "metadata": {
        "colab": {
          "base_uri": "https://localhost:8080/",
          "height": 166
        },
        "id": "9iwhlSRuQCqO",
        "outputId": "92de7f96-b58a-4219-bd9a-5f77f87b2f13"
      },
      "source": [
        "thisset[1] # Bu tanım set için uygun değil !"
      ],
      "execution_count": null,
      "outputs": [
        {
          "output_type": "error",
          "ename": "TypeError",
          "evalue": "ignored",
          "traceback": [
            "\u001b[0;31m---------------------------------------------------------------------------\u001b[0m",
            "\u001b[0;31mTypeError\u001b[0m                                 Traceback (most recent call last)",
            "\u001b[0;32m<ipython-input-29-60ab8742ceed>\u001b[0m in \u001b[0;36m<module>\u001b[0;34m()\u001b[0m\n\u001b[0;32m----> 1\u001b[0;31m \u001b[0mthisset\u001b[0m\u001b[0;34m[\u001b[0m\u001b[0;36m1\u001b[0m\u001b[0;34m]\u001b[0m\u001b[0;34m\u001b[0m\u001b[0;34m\u001b[0m\u001b[0m\n\u001b[0m",
            "\u001b[0;31mTypeError\u001b[0m: 'set' object is not subscriptable"
          ]
        }
      ]
    },
    {
      "cell_type": "code",
      "metadata": {
        "colab": {
          "base_uri": "https://localhost:8080/"
        },
        "id": "BKi4lXScNoBO",
        "outputId": "de4c874b-88ad-44b7-d75e-7d8440a39e01"
      },
      "source": [
        "for x in thisset:\n",
        "  print(x)"
      ],
      "execution_count": null,
      "outputs": [
        {
          "output_type": "stream",
          "text": [
            "İstatistik\n",
            "Gazi\n",
            "Pyhton\n"
          ],
          "name": "stdout"
        }
      ]
    },
    {
      "cell_type": "code",
      "metadata": {
        "colab": {
          "base_uri": "https://localhost:8080/"
        },
        "id": "hwvCCkwfQKrx",
        "outputId": "41b02fc0-d34f-4de0-c05a-49b2c2fa0475"
      },
      "source": [
        "thisset.add(\"Temel\")\n",
        "print(thisset)\n",
        "\n",
        "thisset.remove(\"Gazi\")\n",
        "print(thisset)\n"
      ],
      "execution_count": null,
      "outputs": [
        {
          "output_type": "stream",
          "text": [
            "{'Temel', 'İstatistik', 'Gazi', 'Pyhton'}\n",
            "{'Temel', 'İstatistik', 'Pyhton'}\n"
          ],
          "name": "stdout"
        }
      ]
    },
    {
      "cell_type": "code",
      "metadata": {
        "colab": {
          "base_uri": "https://localhost:8080/"
        },
        "id": "OJOvgHNUNt6U",
        "outputId": "96f51bfb-9122-4f5e-f93f-9b3352762152"
      },
      "source": [
        "# Sözlükler (Dictionaries)\n",
        "thisdict = {\n",
        "  \"okul\": \"Gazi\",\n",
        "  \"bölüm\": \"İstatistik\",\n",
        "  \"yıl\": \"2021\" \n",
        "}\n",
        "print(thisdict)"
      ],
      "execution_count": null,
      "outputs": [
        {
          "output_type": "stream",
          "text": [
            "{'okul': 'Gazi', 'bölüm': 'İstatistik', 'yıl': '2021'}\n"
          ],
          "name": "stdout"
        }
      ]
    },
    {
      "cell_type": "code",
      "metadata": {
        "colab": {
          "base_uri": "https://localhost:8080/"
        },
        "id": "2PLxUkDqN4Ba",
        "outputId": "8cd6c73b-5e60-442a-a494-39abfb6e58ed"
      },
      "source": [
        "thisdict = {\n",
        "  \"okul\": [\"Gazi, Ankara\"],\n",
        "  \"bölüm\": \"İstatistik\",\n",
        "  \"yıl\": \"2021\" \n",
        "}\n",
        "print(thisdict)"
      ],
      "execution_count": null,
      "outputs": [
        {
          "output_type": "stream",
          "text": [
            "{'okul': ['Gazi, Ankara'], 'bölüm': 'İstatistik', 'yıl': '2021'}\n"
          ],
          "name": "stdout"
        }
      ]
    },
    {
      "cell_type": "code",
      "metadata": {
        "colab": {
          "base_uri": "https://localhost:8080/"
        },
        "id": "4OZwY4gzOBL1",
        "outputId": "3748b3dd-56b2-4afa-8719-9fd22751b2ba"
      },
      "source": [
        "thisdict = {\n",
        "  \"okul\": \"Gazi, Ankara\",\n",
        "  \"bölüm\": \"İstatistik\",\n",
        "  \"yıl\": \"2021\",\n",
        "  \"yıl\": \"2020\" \n",
        "}\n",
        "print(thisdict)"
      ],
      "execution_count": null,
      "outputs": [
        {
          "output_type": "stream",
          "text": [
            "{'okul': 'Gazi, Ankara', 'bölüm': 'İstatistik', 'yıl': '2020'}\n"
          ],
          "name": "stdout"
        }
      ]
    },
    {
      "cell_type": "code",
      "metadata": {
        "colab": {
          "base_uri": "https://localhost:8080/",
          "height": 35
        },
        "id": "YNUWfEKxOPdO",
        "outputId": "233afe19-2837-48b1-bef3-933d6e7bc4d2"
      },
      "source": [
        "# thisdict[\"okul\"]\n",
        "thisdict.get(\"okul\")"
      ],
      "execution_count": null,
      "outputs": [
        {
          "output_type": "execute_result",
          "data": {
            "application/vnd.google.colaboratory.intrinsic+json": {
              "type": "string"
            },
            "text/plain": [
              "'Gazi, Ankara'"
            ]
          },
          "metadata": {
            "tags": []
          },
          "execution_count": 135
        }
      ]
    },
    {
      "cell_type": "code",
      "metadata": {
        "colab": {
          "base_uri": "https://localhost:8080/"
        },
        "id": "Hk1dtMYFOad7",
        "outputId": "e56ebc39-0097-44cf-f248-7beee6044ba3"
      },
      "source": [
        "thisdict.keys()"
      ],
      "execution_count": null,
      "outputs": [
        {
          "output_type": "execute_result",
          "data": {
            "text/plain": [
              "dict_keys(['okul', 'bölüm', 'yıl'])"
            ]
          },
          "metadata": {
            "tags": []
          },
          "execution_count": 136
        }
      ]
    },
    {
      "cell_type": "markdown",
      "metadata": {
        "id": "zrWB5AZ0OhV4"
      },
      "source": [
        "Daha fazlası için ufak denemeler yapmak adına bu sayfaya bakılabilir \n",
        "https://www.w3schools.com/python/python_dictionaries_access.asp\n",
        "\n",
        "Ayrıca, githubda şöyle bir derleme de var \n",
        "\n",
        "https://github.com/ibrahimirdem/turkce-python-kaynaklari#kitaplar\n",
        "\n",
        "İngilizce temel kaynak olarak şu kitaba çok detaylı olarak bakılabilir \n",
        "\n",
        "https://jakevdp.github.io/PythonDataScienceHandbook/\n"
      ]
    },
    {
      "cell_type": "code",
      "metadata": {
        "id": "_rK4QwdjGZOx"
      },
      "source": [
        "# Gerekli olan kütüphanelerin yüklenmesi\n",
        "import pandas as pd\n",
        "import numpy as np\n",
        "import matplotlib as plt\n",
        "import seaborn as sns\n",
        "\n",
        "# Ya da kütüphane içerisinden ilgili aracın yüklenmesi\n",
        "from scipy import stats"
      ],
      "execution_count": null,
      "outputs": []
    },
    {
      "cell_type": "markdown",
      "metadata": {
        "id": "ot4IDqLGgNFo"
      },
      "source": [
        "Gerekli olabilecek bazı kütüphaneler açısından; \n",
        "\n",
        "**Numpy** is a library for working with arrays of data\n",
        "\n",
        "**pandas** is a fast, powerful, flexible and easy to use open source data analysis and manipulation tool\n",
        "\n",
        "**Matplotlib** is a library for making graphs\n",
        "\n",
        "**Seaborn** is a higher-level interface to Matplotlib that can be used to simplify many graphing tasks\n",
        "\n",
        "**Statsmodels** is a library that implements many statistical techniques\n",
        "\n",
        "**Scipy** is a library of techniques for numerical and scientific computing"
      ]
    },
    {
      "cell_type": "code",
      "metadata": {
        "colab": {
          "base_uri": "https://localhost:8080/"
        },
        "id": "G42RfV9eXr97",
        "outputId": "086f062f-f045-4094-c10d-e9787770df8d"
      },
      "source": [
        "# Listeden array üretmek için numpy kütüphanesi ile \n",
        "l = [1,2,3,4]\n",
        "print(type(l))\n",
        "\n",
        "print(l)\n",
        "print(np.array(l, dtype='float32'))\n",
        "\n",
        "np.linspace(0, 1, 5)\n",
        "\n",
        "veri = np.array([1, 4, 2, 5, 3, 5])\n",
        "print(veri)\n",
        "print(type(veri))\n",
        "veri.shape"
      ],
      "execution_count": null,
      "outputs": [
        {
          "output_type": "stream",
          "text": [
            "<class 'list'>\n",
            "[1, 2, 3, 4]\n",
            "[1. 2. 3. 4.]\n",
            "[1 4 2 5 3 5]\n",
            "<class 'numpy.ndarray'>\n"
          ],
          "name": "stdout"
        },
        {
          "output_type": "execute_result",
          "data": {
            "text/plain": [
              "(6,)"
            ]
          },
          "metadata": {
            "tags": []
          },
          "execution_count": 36
        }
      ]
    },
    {
      "cell_type": "code",
      "metadata": {
        "colab": {
          "base_uri": "https://localhost:8080/"
        },
        "id": "Jzdr-2Q5en2Q",
        "outputId": "31268208-3352-4940-b220-af66864e2b7b"
      },
      "source": [
        "np.mean(l)"
      ],
      "execution_count": null,
      "outputs": [
        {
          "output_type": "execute_result",
          "data": {
            "text/plain": [
              "2.5"
            ]
          },
          "metadata": {
            "tags": []
          },
          "execution_count": 37
        }
      ]
    },
    {
      "cell_type": "code",
      "metadata": {
        "colab": {
          "base_uri": "https://localhost:8080/"
        },
        "id": "782Sfcw3Q7Sl",
        "outputId": "fd786a2c-5d40-4cda-9dcd-eac72823e4d9"
      },
      "source": [
        "x = np.mean(veri)\n",
        "y = np.median(veri)\n",
        "# stats.mode(veri)\n",
        "\n",
        "print(x)\n",
        "print(y)\n",
        "print(stats.mode(veri))"
      ],
      "execution_count": null,
      "outputs": [
        {
          "output_type": "stream",
          "text": [
            "3.3333333333333335\n",
            "3.5\n",
            "ModeResult(mode=array([5]), count=array([2]))\n"
          ],
          "name": "stdout"
        }
      ]
    },
    {
      "cell_type": "code",
      "metadata": {
        "colab": {
          "base_uri": "https://localhost:8080/"
        },
        "id": "8Cmgug8RSDbr",
        "outputId": "01b3e348-508a-4005-f426-4d8eb4ff3c7e"
      },
      "source": [
        "# Verinin ortalama etrafındaki davranışı\n",
        "\n",
        "print(np.var(veri))\n",
        "print(np.std(veri))"
      ],
      "execution_count": null,
      "outputs": [
        {
          "output_type": "stream",
          "text": [
            "2.222222222222222\n",
            "1.4907119849998596\n"
          ],
          "name": "stdout"
        }
      ]
    },
    {
      "cell_type": "code",
      "metadata": {
        "colab": {
          "base_uri": "https://localhost:8080/"
        },
        "id": "t8w7HGiiSRbw",
        "outputId": "00bc2e9a-5064-45f2-f686-4831c5636a31"
      },
      "source": [
        "yaş = [5,31,43,48,50,41,7,11,15,39,80,82,32,2,8,6,25,36,27,61,31]\n",
        "\n",
        "x = np.percentile(yaş, 75)\n",
        "print(x)"
      ],
      "execution_count": null,
      "outputs": [
        {
          "output_type": "stream",
          "text": [
            "43.0\n"
          ],
          "name": "stdout"
        }
      ]
    },
    {
      "cell_type": "code",
      "metadata": {
        "colab": {
          "base_uri": "https://localhost:8080/"
        },
        "id": "hyemcegde09s",
        "outputId": "f11e4064-e7a1-4231-ca66-18dc95ca306e"
      },
      "source": [
        "# Belli dağılımlardan rastgele sayı üretimine dair \n",
        "\n",
        "# np.random.random((3, 3))\n",
        "np.random.normal(0, 1, (3, 3))"
      ],
      "execution_count": null,
      "outputs": [
        {
          "output_type": "execute_result",
          "data": {
            "text/plain": [
              "array([[-1.08861739,  2.59170343, -1.8696198 ],\n",
              "       [-0.05492141, -0.21196922, -0.50321434],\n",
              "       [ 0.39229667, -1.72515904, -0.71464311]])"
            ]
          },
          "metadata": {
            "tags": []
          },
          "execution_count": 41
        }
      ]
    },
    {
      "cell_type": "code",
      "metadata": {
        "colab": {
          "base_uri": "https://localhost:8080/"
        },
        "id": "wf5R98EFN2jN",
        "outputId": "5562dfc2-25fa-419f-bbe0-0e3c51fdaff0"
      },
      "source": [
        "np.random.randint(0,10)"
      ],
      "execution_count": null,
      "outputs": [
        {
          "output_type": "execute_result",
          "data": {
            "text/plain": [
              "5"
            ]
          },
          "metadata": {
            "tags": []
          },
          "execution_count": 42
        }
      ]
    },
    {
      "cell_type": "code",
      "metadata": {
        "colab": {
          "base_uri": "https://localhost:8080/",
          "height": 513
        },
        "id": "7cbb_T2XSjco",
        "outputId": "a7ceb57a-b748-4ae7-9e6f-6b08229ace71"
      },
      "source": [
        "x = np.random.uniform(0.0, 5.0, 250)\n",
        "\n",
        "import matplotlib.pyplot as plt\n",
        "plt.hist(x, 5)\n",
        "plt.show()\n",
        "\n",
        "x = np.random.normal(5.0, 1.0, 100000)\n",
        "\n",
        "plt.hist(x, 100)\n",
        "plt.show()"
      ],
      "execution_count": null,
      "outputs": [
        {
          "output_type": "display_data",
          "data": {
            "image/png": "[encoded data removed]",
            "text/plain": [
              "<Figure size 432x288 with 1 Axes>"
            ]
          },
          "metadata": {
            "tags": [],
            "needs_background": "light"
          }
        },
        {
          "output_type": "display_data",
          "data": {
            "image/png": "[encoded data removed]",
            "text/plain": [
              "<Figure size 432x288 with 1 Axes>"
            ]
          },
          "metadata": {
            "tags": [],
            "needs_background": "light"
          }
        }
      ]
    },
    {
      "cell_type": "code",
      "metadata": {
        "colab": {
          "base_uri": "https://localhost:8080/",
          "height": 513
        },
        "id": "SBem4vlvTIrk",
        "outputId": "e7f9549e-b059-4f0b-a954-76b43aa39d9f"
      },
      "source": [
        "# Saçılım grafiği\n",
        "x = [5,7,8,7,2,17,2,9,4,11,12,9,6]\n",
        "y = [99,86,87,88,111,86,103,87,94,78,77,85,86]\n",
        "\n",
        "plt.scatter(x, y)\n",
        "plt.show()\n",
        "\n",
        "x = np.random.normal(5.0, 1.0, 1000)\n",
        "y = np.random.normal(10.0, 2.0, 1000)\n",
        "\n",
        "plt.scatter(x, y)\n",
        "plt.show()"
      ],
      "execution_count": null,
      "outputs": [
        {
          "output_type": "display_data",
          "data": {
            "image/png": "[encoded data removed]",
            "text/plain": [
              "<Figure size 432x288 with 1 Axes>"
            ]
          },
          "metadata": {
            "tags": [],
            "needs_background": "light"
          }
        },
        {
          "output_type": "display_data",
          "data": {
            "image/png": "[encoded data removed]",
            "text/plain": [
              "<Figure size 432x288 with 1 Axes>"
            ]
          },
          "metadata": {
            "tags": [],
            "needs_background": "light"
          }
        }
      ]
    },
    {
      "cell_type": "code",
      "metadata": {
        "id": "94sjdWezGgKj",
        "colab": {
          "base_uri": "https://localhost:8080/",
          "height": 621
        },
        "outputId": "05c7f0f6-df1a-453e-c316-74c2adb48b83"
      },
      "source": [
        "# Bir Veri seti yükleyelim\n",
        "# Dizin de  AnkaraData.xlsx olduğundan emin olmak gerekiyor !\n",
        "data = pd.read_excel('/content/AnkaraData.xlsx', index_col=0) \n",
        "data"
      ],
      "execution_count": null,
      "outputs": [
        {
          "output_type": "execute_result",
          "data": {
            "text/html": [
              "<div>\n",
              "<style scoped>\n",
              "    .dataframe tbody tr th:only-of-type {\n",
              "        vertical-align: middle;\n",
              "    }\n",
              "\n",
              "    .dataframe tbody tr th {\n",
              "        vertical-align: top;\n",
              "    }\n",
              "\n",
              "    .dataframe thead th {\n",
              "        text-align: right;\n",
              "    }\n",
              "</style>\n",
              "<table border=\"1\" class=\"dataframe\">\n",
              "  <thead>\n",
              "    <tr style=\"text-align: right;\">\n",
              "      <th></th>\n",
              "      <th>Yield</th>\n",
              "      <th>Wdefr</th>\n",
              "      <th>Wdeft</th>\n",
              "      <th>Etat</th>\n",
              "      <th>Etar</th>\n",
              "      <th>WSIharvest</th>\n",
              "      <th>WSInorm</th>\n",
              "      <th>WSIlat</th>\n",
              "      <th>WSIave</th>\n",
              "      <th>vert</th>\n",
              "      <th>eval</th>\n",
              "      <th>pval</th>\n",
              "      <th>cum</th>\n",
              "      <th>drop</th>\n",
              "    </tr>\n",
              "    <tr>\n",
              "      <th>YEAR</th>\n",
              "      <th></th>\n",
              "      <th></th>\n",
              "      <th></th>\n",
              "      <th></th>\n",
              "      <th></th>\n",
              "      <th></th>\n",
              "      <th></th>\n",
              "      <th></th>\n",
              "      <th></th>\n",
              "      <th></th>\n",
              "      <th></th>\n",
              "      <th></th>\n",
              "      <th></th>\n",
              "      <th></th>\n",
              "    </tr>\n",
              "  </thead>\n",
              "  <tbody>\n",
              "    <tr>\n",
              "      <th>1991</th>\n",
              "      <td>2.446597</td>\n",
              "      <td>-26.000000</td>\n",
              "      <td>-26.000000</td>\n",
              "      <td>341.500000</td>\n",
              "      <td>126.666667</td>\n",
              "      <td>93.833333</td>\n",
              "      <td>85.666667</td>\n",
              "      <td>93.833333</td>\n",
              "      <td>91.111111</td>\n",
              "      <td>49</td>\n",
              "      <td>115</td>\n",
              "      <td>145</td>\n",
              "      <td>33</td>\n",
              "      <td>36</td>\n",
              "    </tr>\n",
              "    <tr>\n",
              "      <th>1992</th>\n",
              "      <td>1.474336</td>\n",
              "      <td>-80.500000</td>\n",
              "      <td>-89.666667</td>\n",
              "      <td>286.333333</td>\n",
              "      <td>76.500000</td>\n",
              "      <td>75.666667</td>\n",
              "      <td>85.666667</td>\n",
              "      <td>75.666667</td>\n",
              "      <td>79.000000</td>\n",
              "      <td>44</td>\n",
              "      <td>91</td>\n",
              "      <td>111</td>\n",
              "      <td>25</td>\n",
              "      <td>26</td>\n",
              "    </tr>\n",
              "    <tr>\n",
              "      <th>1993</th>\n",
              "      <td>1.923540</td>\n",
              "      <td>-87.500000</td>\n",
              "      <td>-88.666667</td>\n",
              "      <td>297.166667</td>\n",
              "      <td>85.666667</td>\n",
              "      <td>76.500000</td>\n",
              "      <td>85.666667</td>\n",
              "      <td>76.500000</td>\n",
              "      <td>79.555556</td>\n",
              "      <td>66</td>\n",
              "      <td>104</td>\n",
              "      <td>134</td>\n",
              "      <td>32</td>\n",
              "      <td>37</td>\n",
              "    </tr>\n",
              "    <tr>\n",
              "      <th>1994</th>\n",
              "      <td>1.510862</td>\n",
              "      <td>-165.857143</td>\n",
              "      <td>-196.571429</td>\n",
              "      <td>244.285714</td>\n",
              "      <td>34.142857</td>\n",
              "      <td>54.857143</td>\n",
              "      <td>86.000000</td>\n",
              "      <td>54.857143</td>\n",
              "      <td>65.238095</td>\n",
              "      <td>71</td>\n",
              "      <td>110</td>\n",
              "      <td>144</td>\n",
              "      <td>39</td>\n",
              "      <td>40</td>\n",
              "    </tr>\n",
              "    <tr>\n",
              "      <th>1995</th>\n",
              "      <td>1.707505</td>\n",
              "      <td>-91.142857</td>\n",
              "      <td>-100.285714</td>\n",
              "      <td>324.857143</td>\n",
              "      <td>112.428571</td>\n",
              "      <td>75.857143</td>\n",
              "      <td>86.000000</td>\n",
              "      <td>75.857143</td>\n",
              "      <td>79.238095</td>\n",
              "      <td>51</td>\n",
              "      <td>93</td>\n",
              "      <td>128</td>\n",
              "      <td>33</td>\n",
              "      <td>40</td>\n",
              "    </tr>\n",
              "    <tr>\n",
              "      <th>1996</th>\n",
              "      <td>1.821175</td>\n",
              "      <td>-99.714286</td>\n",
              "      <td>-111.714286</td>\n",
              "      <td>301.714286</td>\n",
              "      <td>90.571429</td>\n",
              "      <td>72.000000</td>\n",
              "      <td>86.000000</td>\n",
              "      <td>72.000000</td>\n",
              "      <td>76.666667</td>\n",
              "      <td>53</td>\n",
              "      <td>98</td>\n",
              "      <td>123</td>\n",
              "      <td>29</td>\n",
              "      <td>32</td>\n",
              "    </tr>\n",
              "    <tr>\n",
              "      <th>1997</th>\n",
              "      <td>1.919765</td>\n",
              "      <td>-36.142857</td>\n",
              "      <td>-36.142857</td>\n",
              "      <td>352.857143</td>\n",
              "      <td>144.571429</td>\n",
              "      <td>90.285714</td>\n",
              "      <td>86.000000</td>\n",
              "      <td>90.285714</td>\n",
              "      <td>88.857143</td>\n",
              "      <td>49</td>\n",
              "      <td>106</td>\n",
              "      <td>137</td>\n",
              "      <td>28</td>\n",
              "      <td>36</td>\n",
              "    </tr>\n",
              "    <tr>\n",
              "      <th>1998</th>\n",
              "      <td>2.733379</td>\n",
              "      <td>-13.142857</td>\n",
              "      <td>-13.142857</td>\n",
              "      <td>376.142857</td>\n",
              "      <td>157.428571</td>\n",
              "      <td>97.142857</td>\n",
              "      <td>86.000000</td>\n",
              "      <td>97.142857</td>\n",
              "      <td>93.428571</td>\n",
              "      <td>52</td>\n",
              "      <td>115</td>\n",
              "      <td>144</td>\n",
              "      <td>38</td>\n",
              "      <td>33</td>\n",
              "    </tr>\n",
              "    <tr>\n",
              "      <th>1999</th>\n",
              "      <td>1.852614</td>\n",
              "      <td>-98.857143</td>\n",
              "      <td>-103.571429</td>\n",
              "      <td>320.714286</td>\n",
              "      <td>79.142857</td>\n",
              "      <td>76.285714</td>\n",
              "      <td>86.000000</td>\n",
              "      <td>76.285714</td>\n",
              "      <td>79.523810</td>\n",
              "      <td>65</td>\n",
              "      <td>111</td>\n",
              "      <td>158</td>\n",
              "      <td>35</td>\n",
              "      <td>52</td>\n",
              "    </tr>\n",
              "    <tr>\n",
              "      <th>2000</th>\n",
              "      <td>2.521573</td>\n",
              "      <td>-66.428571</td>\n",
              "      <td>-66.428571</td>\n",
              "      <td>349.142857</td>\n",
              "      <td>121.285714</td>\n",
              "      <td>85.142857</td>\n",
              "      <td>86.000000</td>\n",
              "      <td>85.142857</td>\n",
              "      <td>85.428571</td>\n",
              "      <td>94</td>\n",
              "      <td>119</td>\n",
              "      <td>164</td>\n",
              "      <td>31</td>\n",
              "      <td>48</td>\n",
              "    </tr>\n",
              "    <tr>\n",
              "      <th>2001</th>\n",
              "      <td>1.859124</td>\n",
              "      <td>-140.285714</td>\n",
              "      <td>-167.142857</td>\n",
              "      <td>276.000000</td>\n",
              "      <td>61.142857</td>\n",
              "      <td>63.285714</td>\n",
              "      <td>86.000000</td>\n",
              "      <td>63.285714</td>\n",
              "      <td>70.857143</td>\n",
              "      <td>67</td>\n",
              "      <td>93</td>\n",
              "      <td>136</td>\n",
              "      <td>35</td>\n",
              "      <td>51</td>\n",
              "    </tr>\n",
              "    <tr>\n",
              "      <th>2002</th>\n",
              "      <td>2.317106</td>\n",
              "      <td>-55.285714</td>\n",
              "      <td>-63.285714</td>\n",
              "      <td>349.857143</td>\n",
              "      <td>133.285714</td>\n",
              "      <td>85.571429</td>\n",
              "      <td>86.000000</td>\n",
              "      <td>85.571429</td>\n",
              "      <td>85.714286</td>\n",
              "      <td>76</td>\n",
              "      <td>104</td>\n",
              "      <td>146</td>\n",
              "      <td>30</td>\n",
              "      <td>46</td>\n",
              "    </tr>\n",
              "    <tr>\n",
              "      <th>2003</th>\n",
              "      <td>2.167610</td>\n",
              "      <td>-146.714286</td>\n",
              "      <td>-148.000000</td>\n",
              "      <td>286.857143</td>\n",
              "      <td>53.714286</td>\n",
              "      <td>66.714286</td>\n",
              "      <td>86.000000</td>\n",
              "      <td>66.714286</td>\n",
              "      <td>73.142857</td>\n",
              "      <td>87</td>\n",
              "      <td>106</td>\n",
              "      <td>155</td>\n",
              "      <td>30</td>\n",
              "      <td>51</td>\n",
              "    </tr>\n",
              "    <tr>\n",
              "      <th>2004</th>\n",
              "      <td>2.014000</td>\n",
              "      <td>-114.857143</td>\n",
              "      <td>-134.000000</td>\n",
              "      <td>281.857143</td>\n",
              "      <td>61.285714</td>\n",
              "      <td>68.571429</td>\n",
              "      <td>86.000000</td>\n",
              "      <td>68.571429</td>\n",
              "      <td>74.380952</td>\n",
              "      <td>70</td>\n",
              "      <td>92</td>\n",
              "      <td>140</td>\n",
              "      <td>33</td>\n",
              "      <td>53</td>\n",
              "    </tr>\n",
              "    <tr>\n",
              "      <th>2005</th>\n",
              "      <td>2.243205</td>\n",
              "      <td>-12.571429</td>\n",
              "      <td>-24.857143</td>\n",
              "      <td>323.571429</td>\n",
              "      <td>133.428571</td>\n",
              "      <td>93.285714</td>\n",
              "      <td>86.000000</td>\n",
              "      <td>93.285714</td>\n",
              "      <td>90.857143</td>\n",
              "      <td>93</td>\n",
              "      <td>98</td>\n",
              "      <td>157</td>\n",
              "      <td>33</td>\n",
              "      <td>66</td>\n",
              "    </tr>\n",
              "    <tr>\n",
              "      <th>2006</th>\n",
              "      <td>2.282206</td>\n",
              "      <td>-78.000000</td>\n",
              "      <td>-78.000000</td>\n",
              "      <td>281.571429</td>\n",
              "      <td>87.428571</td>\n",
              "      <td>78.142857</td>\n",
              "      <td>86.000000</td>\n",
              "      <td>78.142857</td>\n",
              "      <td>80.761905</td>\n",
              "      <td>74</td>\n",
              "      <td>0</td>\n",
              "      <td>150</td>\n",
              "      <td>33</td>\n",
              "      <td>0</td>\n",
              "    </tr>\n",
              "    <tr>\n",
              "      <th>2007</th>\n",
              "      <td>1.221462</td>\n",
              "      <td>-106.000000</td>\n",
              "      <td>-107.285714</td>\n",
              "      <td>265.000000</td>\n",
              "      <td>62.857143</td>\n",
              "      <td>71.285714</td>\n",
              "      <td>86.000000</td>\n",
              "      <td>71.285714</td>\n",
              "      <td>76.190476</td>\n",
              "      <td>36</td>\n",
              "      <td>75</td>\n",
              "      <td>109</td>\n",
              "      <td>24</td>\n",
              "      <td>41</td>\n",
              "    </tr>\n",
              "  </tbody>\n",
              "</table>\n",
              "</div>"
            ],
            "text/plain": [
              "         Yield       Wdefr       Wdeft        Etat  ...  eval  pval  cum   drop\n",
              "YEAR                                                ...                        \n",
              "1991  2.446597  -26.000000  -26.000000  341.500000  ...   115   145    33    36\n",
              "1992  1.474336  -80.500000  -89.666667  286.333333  ...    91   111    25    26\n",
              "1993  1.923540  -87.500000  -88.666667  297.166667  ...   104   134    32    37\n",
              "1994  1.510862 -165.857143 -196.571429  244.285714  ...   110   144    39    40\n",
              "1995  1.707505  -91.142857 -100.285714  324.857143  ...    93   128    33    40\n",
              "1996  1.821175  -99.714286 -111.714286  301.714286  ...    98   123    29    32\n",
              "1997  1.919765  -36.142857  -36.142857  352.857143  ...   106   137    28    36\n",
              "1998  2.733379  -13.142857  -13.142857  376.142857  ...   115   144    38    33\n",
              "1999  1.852614  -98.857143 -103.571429  320.714286  ...   111   158    35    52\n",
              "2000  2.521573  -66.428571  -66.428571  349.142857  ...   119   164    31    48\n",
              "2001  1.859124 -140.285714 -167.142857  276.000000  ...    93   136    35    51\n",
              "2002  2.317106  -55.285714  -63.285714  349.857143  ...   104   146    30    46\n",
              "2003  2.167610 -146.714286 -148.000000  286.857143  ...   106   155    30    51\n",
              "2004  2.014000 -114.857143 -134.000000  281.857143  ...    92   140    33    53\n",
              "2005  2.243205  -12.571429  -24.857143  323.571429  ...    98   157    33    66\n",
              "2006  2.282206  -78.000000  -78.000000  281.571429  ...     0   150    33     0\n",
              "2007  1.221462 -106.000000 -107.285714  265.000000  ...    75   109    24    41\n",
              "\n",
              "[17 rows x 14 columns]"
            ]
          },
          "metadata": {
            "tags": []
          },
          "execution_count": 46
        }
      ]
    },
    {
      "cell_type": "code",
      "metadata": {
        "colab": {
          "base_uri": "https://localhost:8080/"
        },
        "id": "CFHyrhHLHQVq",
        "outputId": "7d7e8946-073f-49b3-f3e2-59c9a1be69cc"
      },
      "source": [
        "data.info()\n",
        "\n",
        "# Print out the first few rows of the data\n",
        "print(data.head(10))\n",
        "print(data.tail())"
      ],
      "execution_count": null,
      "outputs": [
        {
          "output_type": "stream",
          "text": [
            "<class 'pandas.core.frame.DataFrame'>\n",
            "Int64Index: 17 entries, 1991 to 2007\n",
            "Data columns (total 14 columns):\n",
            " #   Column      Non-Null Count  Dtype  \n",
            "---  ------      --------------  -----  \n",
            " 0   Yield       17 non-null     float64\n",
            " 1   Wdefr       17 non-null     float64\n",
            " 2   Wdeft       17 non-null     float64\n",
            " 3   Etat        17 non-null     float64\n",
            " 4   Etar        17 non-null     float64\n",
            " 5   WSIharvest  17 non-null     float64\n",
            " 6   WSInorm     17 non-null     float64\n",
            " 7   WSIlat      17 non-null     float64\n",
            " 8   WSIave      17 non-null     float64\n",
            " 9   vert        17 non-null     int64  \n",
            " 10  eval        17 non-null     int64  \n",
            " 11  pval        17 non-null     int64  \n",
            " 12  cum         17 non-null     int64  \n",
            " 13  drop        17 non-null     int64  \n",
            "dtypes: float64(9), int64(5)\n",
            "memory usage: 2.0 KB\n",
            "         Yield       Wdefr       Wdeft        Etat  ...  eval  pval  cum   drop\n",
            "YEAR                                                ...                        \n",
            "1991  2.446597  -26.000000  -26.000000  341.500000  ...   115   145    33    36\n",
            "1992  1.474336  -80.500000  -89.666667  286.333333  ...    91   111    25    26\n",
            "1993  1.923540  -87.500000  -88.666667  297.166667  ...   104   134    32    37\n",
            "1994  1.510862 -165.857143 -196.571429  244.285714  ...   110   144    39    40\n",
            "1995  1.707505  -91.142857 -100.285714  324.857143  ...    93   128    33    40\n",
            "1996  1.821175  -99.714286 -111.714286  301.714286  ...    98   123    29    32\n",
            "1997  1.919765  -36.142857  -36.142857  352.857143  ...   106   137    28    36\n",
            "1998  2.733379  -13.142857  -13.142857  376.142857  ...   115   144    38    33\n",
            "1999  1.852614  -98.857143 -103.571429  320.714286  ...   111   158    35    52\n",
            "2000  2.521573  -66.428571  -66.428571  349.142857  ...   119   164    31    48\n",
            "\n",
            "[10 rows x 14 columns]\n",
            "         Yield       Wdefr       Wdeft        Etat  ...  eval  pval  cum   drop\n",
            "YEAR                                                ...                        \n",
            "2003  2.167610 -146.714286 -148.000000  286.857143  ...   106   155    30    51\n",
            "2004  2.014000 -114.857143 -134.000000  281.857143  ...    92   140    33    53\n",
            "2005  2.243205  -12.571429  -24.857143  323.571429  ...    98   157    33    66\n",
            "2006  2.282206  -78.000000  -78.000000  281.571429  ...     0   150    33     0\n",
            "2007  1.221462 -106.000000 -107.285714  265.000000  ...    75   109    24    41\n",
            "\n",
            "[5 rows x 14 columns]\n"
          ],
          "name": "stdout"
        }
      ]
    },
    {
      "cell_type": "code",
      "metadata": {
        "colab": {
          "base_uri": "https://localhost:8080/"
        },
        "id": "rgOFpg68wIth",
        "outputId": "4f7d6f20-f58b-4d99-b5c3-78c5d26f46c5"
      },
      "source": [
        "data.mean()"
      ],
      "execution_count": null,
      "outputs": [
        {
          "output_type": "execute_result",
          "data": {
            "text/plain": [
              "Yield           2.000945\n",
              "Wdefr         -83.470588\n",
              "Wdeft         -91.456583\n",
              "Etat          309.378151\n",
              "Etar           95.385154\n",
              "WSIharvest     77.907563\n",
              "WSInorm        85.941176\n",
              "WSIlat         77.907563\n",
              "WSIave         80.585434\n",
              "vert           64.529412\n",
              "eval           95.882353\n",
              "pval          140.058824\n",
              "cum            31.823529\n",
              "drop           40.470588\n",
              "dtype: float64"
            ]
          },
          "metadata": {
            "tags": []
          },
          "execution_count": 48
        }
      ]
    },
    {
      "cell_type": "code",
      "metadata": {
        "colab": {
          "base_uri": "https://localhost:8080/"
        },
        "id": "Ohfy65l6Plzw",
        "outputId": "b0908ffc-f982-46f4-dfe2-35a470fc13d9"
      },
      "source": [
        "# Sadece bir tanesi için \n",
        "\n",
        "data['Yield'].mean() # median(), min(), max()\n",
        "data['Yield'].median()\n",
        "data['Yield'].min()\n",
        "data['Yield'].max()"
      ],
      "execution_count": null,
      "outputs": [
        {
          "output_type": "execute_result",
          "data": {
            "text/plain": [
              "2.7333788294004115"
            ]
          },
          "metadata": {
            "tags": []
          },
          "execution_count": 49
        }
      ]
    },
    {
      "cell_type": "code",
      "metadata": {
        "colab": {
          "base_uri": "https://localhost:8080/"
        },
        "id": "slm3tBOkwUgj",
        "outputId": "ac0a9ba9-c229-4f40-b6e2-4357c7829013"
      },
      "source": [
        "print(data.median())"
      ],
      "execution_count": null,
      "outputs": [
        {
          "output_type": "stream",
          "text": [
            "Yield           1.923540\n",
            "Wdefr         -87.500000\n",
            "Wdeft         -89.666667\n",
            "Etat          301.714286\n",
            "Etar           87.428571\n",
            "WSIharvest     76.285714\n",
            "WSInorm        86.000000\n",
            "WSIlat         76.285714\n",
            "WSIave         79.523810\n",
            "vert           66.000000\n",
            "eval          104.000000\n",
            "pval          144.000000\n",
            "cum            33.000000\n",
            "drop           40.000000\n",
            "dtype: float64\n"
          ],
          "name": "stdout"
        }
      ]
    },
    {
      "cell_type": "code",
      "metadata": {
        "colab": {
          "base_uri": "https://localhost:8080/",
          "height": 314
        },
        "id": "Yyil9fqvHkrF",
        "outputId": "05a8804e-d6e2-4638-a605-c52c1168714d"
      },
      "source": [
        "# Veriler hakkında istatistiksel bilgi veren bir başka yöntem ise describe() yöntemidir. \n",
        "data.describe()"
      ],
      "execution_count": null,
      "outputs": [
        {
          "output_type": "execute_result",
          "data": {
            "text/html": [
              "<div>\n",
              "<style scoped>\n",
              "    .dataframe tbody tr th:only-of-type {\n",
              "        vertical-align: middle;\n",
              "    }\n",
              "\n",
              "    .dataframe tbody tr th {\n",
              "        vertical-align: top;\n",
              "    }\n",
              "\n",
              "    .dataframe thead th {\n",
              "        text-align: right;\n",
              "    }\n",
              "</style>\n",
              "<table border=\"1\" class=\"dataframe\">\n",
              "  <thead>\n",
              "    <tr style=\"text-align: right;\">\n",
              "      <th></th>\n",
              "      <th>Yield</th>\n",
              "      <th>Wdefr</th>\n",
              "      <th>Wdeft</th>\n",
              "      <th>Etat</th>\n",
              "      <th>Etar</th>\n",
              "      <th>WSIharvest</th>\n",
              "      <th>WSInorm</th>\n",
              "      <th>WSIlat</th>\n",
              "      <th>WSIave</th>\n",
              "      <th>vert</th>\n",
              "      <th>eval</th>\n",
              "      <th>pval</th>\n",
              "      <th>cum</th>\n",
              "      <th>drop</th>\n",
              "    </tr>\n",
              "  </thead>\n",
              "  <tbody>\n",
              "    <tr>\n",
              "      <th>count</th>\n",
              "      <td>17.000000</td>\n",
              "      <td>17.000000</td>\n",
              "      <td>17.000000</td>\n",
              "      <td>17.000000</td>\n",
              "      <td>17.000000</td>\n",
              "      <td>17.000000</td>\n",
              "      <td>17.000000</td>\n",
              "      <td>17.000000</td>\n",
              "      <td>17.000000</td>\n",
              "      <td>17.000000</td>\n",
              "      <td>17.000000</td>\n",
              "      <td>17.000000</td>\n",
              "      <td>17.000000</td>\n",
              "      <td>17.000000</td>\n",
              "    </tr>\n",
              "    <tr>\n",
              "      <th>mean</th>\n",
              "      <td>2.000945</td>\n",
              "      <td>-83.470588</td>\n",
              "      <td>-91.456583</td>\n",
              "      <td>309.378151</td>\n",
              "      <td>95.385154</td>\n",
              "      <td>77.907563</td>\n",
              "      <td>85.941176</td>\n",
              "      <td>77.907563</td>\n",
              "      <td>80.585434</td>\n",
              "      <td>64.529412</td>\n",
              "      <td>95.882353</td>\n",
              "      <td>140.058824</td>\n",
              "      <td>31.823529</td>\n",
              "      <td>40.470588</td>\n",
              "    </tr>\n",
              "    <tr>\n",
              "      <th>std</th>\n",
              "      <td>0.400783</td>\n",
              "      <td>45.223538</td>\n",
              "      <td>51.353594</td>\n",
              "      <td>36.457492</td>\n",
              "      <td>36.033081</td>\n",
              "      <td>11.658236</td>\n",
              "      <td>0.130984</td>\n",
              "      <td>11.658236</td>\n",
              "      <td>7.764963</td>\n",
              "      <td>17.095751</td>\n",
              "      <td>27.069084</td>\n",
              "      <td>15.618381</td>\n",
              "      <td>3.988034</td>\n",
              "      <td>14.313969</td>\n",
              "    </tr>\n",
              "    <tr>\n",
              "      <th>min</th>\n",
              "      <td>1.221462</td>\n",
              "      <td>-165.857143</td>\n",
              "      <td>-196.571429</td>\n",
              "      <td>244.285714</td>\n",
              "      <td>34.142857</td>\n",
              "      <td>54.857143</td>\n",
              "      <td>85.666667</td>\n",
              "      <td>54.857143</td>\n",
              "      <td>65.238095</td>\n",
              "      <td>36.000000</td>\n",
              "      <td>0.000000</td>\n",
              "      <td>109.000000</td>\n",
              "      <td>24.000000</td>\n",
              "      <td>0.000000</td>\n",
              "    </tr>\n",
              "    <tr>\n",
              "      <th>25%</th>\n",
              "      <td>1.821175</td>\n",
              "      <td>-106.000000</td>\n",
              "      <td>-111.714286</td>\n",
              "      <td>281.857143</td>\n",
              "      <td>62.857143</td>\n",
              "      <td>71.285714</td>\n",
              "      <td>86.000000</td>\n",
              "      <td>71.285714</td>\n",
              "      <td>76.190476</td>\n",
              "      <td>51.000000</td>\n",
              "      <td>93.000000</td>\n",
              "      <td>134.000000</td>\n",
              "      <td>30.000000</td>\n",
              "      <td>36.000000</td>\n",
              "    </tr>\n",
              "    <tr>\n",
              "      <th>50%</th>\n",
              "      <td>1.923540</td>\n",
              "      <td>-87.500000</td>\n",
              "      <td>-89.666667</td>\n",
              "      <td>301.714286</td>\n",
              "      <td>87.428571</td>\n",
              "      <td>76.285714</td>\n",
              "      <td>86.000000</td>\n",
              "      <td>76.285714</td>\n",
              "      <td>79.523810</td>\n",
              "      <td>66.000000</td>\n",
              "      <td>104.000000</td>\n",
              "      <td>144.000000</td>\n",
              "      <td>33.000000</td>\n",
              "      <td>40.000000</td>\n",
              "    </tr>\n",
              "    <tr>\n",
              "      <th>75%</th>\n",
              "      <td>2.282206</td>\n",
              "      <td>-55.285714</td>\n",
              "      <td>-63.285714</td>\n",
              "      <td>341.500000</td>\n",
              "      <td>126.666667</td>\n",
              "      <td>85.571429</td>\n",
              "      <td>86.000000</td>\n",
              "      <td>85.571429</td>\n",
              "      <td>85.714286</td>\n",
              "      <td>74.000000</td>\n",
              "      <td>110.000000</td>\n",
              "      <td>150.000000</td>\n",
              "      <td>33.000000</td>\n",
              "      <td>51.000000</td>\n",
              "    </tr>\n",
              "    <tr>\n",
              "      <th>max</th>\n",
              "      <td>2.733379</td>\n",
              "      <td>-12.571429</td>\n",
              "      <td>-13.142857</td>\n",
              "      <td>376.142857</td>\n",
              "      <td>157.428571</td>\n",
              "      <td>97.142857</td>\n",
              "      <td>86.000000</td>\n",
              "      <td>97.142857</td>\n",
              "      <td>93.428571</td>\n",
              "      <td>94.000000</td>\n",
              "      <td>119.000000</td>\n",
              "      <td>164.000000</td>\n",
              "      <td>39.000000</td>\n",
              "      <td>66.000000</td>\n",
              "    </tr>\n",
              "  </tbody>\n",
              "</table>\n",
              "</div>"
            ],
            "text/plain": [
              "           Yield       Wdefr       Wdeft  ...        pval       cum        drop\n",
              "count  17.000000   17.000000   17.000000  ...   17.000000  17.000000  17.000000\n",
              "mean    2.000945  -83.470588  -91.456583  ...  140.058824  31.823529  40.470588\n",
              "std     0.400783   45.223538   51.353594  ...   15.618381   3.988034  14.313969\n",
              "min     1.221462 -165.857143 -196.571429  ...  109.000000  24.000000   0.000000\n",
              "25%     1.821175 -106.000000 -111.714286  ...  134.000000  30.000000  36.000000\n",
              "50%     1.923540  -87.500000  -89.666667  ...  144.000000  33.000000  40.000000\n",
              "75%     2.282206  -55.285714  -63.285714  ...  150.000000  33.000000  51.000000\n",
              "max     2.733379  -12.571429  -13.142857  ...  164.000000  39.000000  66.000000\n",
              "\n",
              "[8 rows x 14 columns]"
            ]
          },
          "metadata": {
            "tags": []
          },
          "execution_count": 51
        }
      ]
    },
    {
      "cell_type": "code",
      "metadata": {
        "colab": {
          "base_uri": "https://localhost:8080/",
          "height": 352
        },
        "id": "LlaaxajpPyOJ",
        "outputId": "b77eb72b-30d4-4ae4-ef35-b92ba2039ef9"
      },
      "source": [
        "# Dağılım için bir histogram çizelim\n",
        "plt.hist(data['drop'], color= \"blue\")\n",
        "plt.hist(data[\"pval\"], color = \"red\")\n",
        "plt.hist(data[\"Yield\"], color = \"black\")"
      ],
      "execution_count": null,
      "outputs": [
        {
          "output_type": "execute_result",
          "data": {
            "text/plain": [
              "(array([1., 2., 0., 2., 4., 1., 2., 2., 2., 1.]),\n",
              " array([1.221462  , 1.37265369, 1.52384537, 1.67503705, 1.82622873,\n",
              "        1.97742042, 2.1286121 , 2.27980378, 2.43099546, 2.58218715,\n",
              "        2.73337883]),\n",
              " <a list of 10 Patch objects>)"
            ]
          },
          "metadata": {
            "tags": []
          },
          "execution_count": 52
        },
        {
          "output_type": "display_data",
          "data": {
            "image/png": "[encoded data removed]",
            "text/plain": [
              "<Figure size 432x288 with 1 Axes>"
            ]
          },
          "metadata": {
            "tags": [],
            "needs_background": "light"
          }
        }
      ]
    },
    {
      "cell_type": "code",
      "metadata": {
        "colab": {
          "base_uri": "https://localhost:8080/",
          "height": 981
        },
        "id": "fKbllX5VTaZp",
        "outputId": "3674fe25-7256-410e-98bf-c13967186931"
      },
      "source": [
        "# Normal dağılıma uygun bir veri olsaydı eğer ?\n",
        "np.random.seed(42)\n",
        "n = 5000\n",
        "mean_mu1 = 60\n",
        "sd_sigma1 = 15\n",
        "data1 = np.random.normal(mean_mu1, sd_sigma1, n)\n",
        "mean_mu2 = 80\n",
        "sd_sigma2 = 15\n",
        "data2 = np.random.normal(mean_mu2, sd_sigma2, n)\n",
        "\n",
        "plt.figure(figsize=(8,6))\n",
        "plt.hist(data1, bins=100, alpha=0.5, label=\"data1\")\n",
        "plt.hist(data2, bins=100, alpha=0.5, label=\"data2\")"
      ],
      "execution_count": null,
      "outputs": [
        {
          "output_type": "execute_result",
          "data": {
            "text/plain": [
              "(array([  1.,   1.,   0.,   1.,   1.,   0.,   0.,   0.,   0.,   2.,   1.,\n",
              "          1.,   1.,   2.,   2.,   4.,   4.,   2.,   6.,   6.,  11.,   7.,\n",
              "         12.,  15.,  20.,  16.,  29.,  25.,  37.,  45.,  27.,  37.,  64.,\n",
              "         59.,  63.,  56.,  69.,  80.,  86.,  86., 103., 120., 110.,  95.,\n",
              "        133., 128., 135., 143., 157., 144., 144., 140., 160., 151., 152.,\n",
              "        141., 136., 143., 134., 112., 107., 123., 114., 100.,  88.,  97.,\n",
              "         86.,  78.,  79.,  68.,  65.,  58.,  47.,  47.,  41.,  37.,  28.,\n",
              "         20.,  22.,  20.,  24.,  14.,  12.,  10.,  10.,   4.,   8.,   7.,\n",
              "          6.,   5.,   3.,   3.,   4.,   0.,   2.,   1.,   0.,   1.,   0.,\n",
              "          1.]), array([ 21.16399623,  22.28171454,  23.39943286,  24.51715117,\n",
              "         25.63486949,  26.75258781,  27.87030612,  28.98802444,\n",
              "         30.10574275,  31.22346107,  32.34117938,  33.4588977 ,\n",
              "         34.57661602,  35.69433433,  36.81205265,  37.92977096,\n",
              "         39.04748928,  40.1652076 ,  41.28292591,  42.40064423,\n",
              "         43.51836254,  44.63608086,  45.75379918,  46.87151749,\n",
              "         47.98923581,  49.10695412,  50.22467244,  51.34239075,\n",
              "         52.46010907,  53.57782739,  54.6955457 ,  55.81326402,\n",
              "         56.93098233,  58.04870065,  59.16641897,  60.28413728,\n",
              "         61.4018556 ,  62.51957391,  63.63729223,  64.75501054,\n",
              "         65.87272886,  66.99044718,  68.10816549,  69.22588381,\n",
              "         70.34360212,  71.46132044,  72.57903876,  73.69675707,\n",
              "         74.81447539,  75.9321937 ,  77.04991202,  78.16763034,\n",
              "         79.28534865,  80.40306697,  81.52078528,  82.6385036 ,\n",
              "         83.75622191,  84.87394023,  85.99165855,  87.10937686,\n",
              "         88.22709518,  89.34481349,  90.46253181,  91.58025013,\n",
              "         92.69796844,  93.81568676,  94.93340507,  96.05112339,\n",
              "         97.16884171,  98.28656002,  99.40427834, 100.52199665,\n",
              "        101.63971497, 102.75743328, 103.8751516 , 104.99286992,\n",
              "        106.11058823, 107.22830655, 108.34602486, 109.46374318,\n",
              "        110.5814615 , 111.69917981, 112.81689813, 113.93461644,\n",
              "        115.05233476, 116.17005308, 117.28777139, 118.40548971,\n",
              "        119.52320802, 120.64092634, 121.75864465, 122.87636297,\n",
              "        123.99408129, 125.1117996 , 126.22951792, 127.34723623,\n",
              "        128.46495455, 129.58267287, 130.70039118, 131.8181095 ,\n",
              "        132.93582781]), <a list of 100 Patch objects>)"
            ]
          },
          "metadata": {
            "tags": []
          },
          "execution_count": 53
        },
        {
          "output_type": "display_data",
          "data": {
            "image/png": "[encoded data removed]",
            "text/plain": [
              "<Figure size 576x432 with 1 Axes>"
            ]
          },
          "metadata": {
            "tags": [],
            "needs_background": "light"
          }
        }
      ]
    },
    {
      "cell_type": "code",
      "metadata": {
        "colab": {
          "base_uri": "https://localhost:8080/",
          "height": 407
        },
        "id": "IuBkGjJZQSVi",
        "outputId": "77943e4f-c33c-4438-cfcc-b29c42eb94c1"
      },
      "source": [
        "plt.boxplot(data[\"Yield\"])\n",
        "plt.boxplot(data[\"Yield\"], showmeans=True)"
      ],
      "execution_count": null,
      "outputs": [
        {
          "output_type": "execute_result",
          "data": {
            "text/plain": [
              "{'boxes': [<matplotlib.lines.Line2D at 0x7f3fa04a3990>],\n",
              " 'caps': [<matplotlib.lines.Line2D at 0x7f3fa04aa1d0>,\n",
              "  <matplotlib.lines.Line2D at 0x7f3fa04aa750>],\n",
              " 'fliers': [<matplotlib.lines.Line2D at 0x7f3fa04b1750>],\n",
              " 'means': [<matplotlib.lines.Line2D at 0x7f3fa04b1190>],\n",
              " 'medians': [<matplotlib.lines.Line2D at 0x7f3fa04aac90>],\n",
              " 'whiskers': [<matplotlib.lines.Line2D at 0x7f3fa04a30d0>,\n",
              "  <matplotlib.lines.Line2D at 0x7f3fa04a3710>]}"
            ]
          },
          "metadata": {
            "tags": []
          },
          "execution_count": 54
        },
        {
          "output_type": "display_data",
          "data": {
            "image/png": "[encoded data removed]",
            "text/plain": [
              "<Figure size 432x288 with 1 Axes>"
            ]
          },
          "metadata": {
            "tags": [],
            "needs_background": "light"
          }
        }
      ]
    },
    {
      "cell_type": "code",
      "metadata": {
        "colab": {
          "base_uri": "https://localhost:8080/"
        },
        "id": "SHcP1g6FWKND",
        "outputId": "d81a060b-c9d1-4717-9408-ee0cc1ce64fe"
      },
      "source": [
        "#Değişkenler arasındaki ilişkiye bakmak adına \n",
        "\n",
        "np.corrcoef(data[\"Yield\"], data[\"Wdeft\"])"
      ],
      "execution_count": null,
      "outputs": [
        {
          "output_type": "execute_result",
          "data": {
            "text/plain": [
              "array([[1.        , 0.59329346],\n",
              "       [0.59329346, 1.        ]])"
            ]
          },
          "metadata": {
            "tags": []
          },
          "execution_count": 55
        }
      ]
    },
    {
      "cell_type": "code",
      "metadata": {
        "id": "J_MyhA90PcIL",
        "colab": {
          "base_uri": "https://localhost:8080/",
          "height": 498
        },
        "outputId": "15c08ea4-3d5b-40cc-c574-31910fae3006"
      },
      "source": [
        "# Tüm değişkenler arasındaki korelasyon bakmak için\n",
        "data.corr()"
      ],
      "execution_count": null,
      "outputs": [
        {
          "output_type": "execute_result",
          "data": {
            "text/html": [
              "<div>\n",
              "<style scoped>\n",
              "    .dataframe tbody tr th:only-of-type {\n",
              "        vertical-align: middle;\n",
              "    }\n",
              "\n",
              "    .dataframe tbody tr th {\n",
              "        vertical-align: top;\n",
              "    }\n",
              "\n",
              "    .dataframe thead th {\n",
              "        text-align: right;\n",
              "    }\n",
              "</style>\n",
              "<table border=\"1\" class=\"dataframe\">\n",
              "  <thead>\n",
              "    <tr style=\"text-align: right;\">\n",
              "      <th></th>\n",
              "      <th>Yield</th>\n",
              "      <th>Wdefr</th>\n",
              "      <th>Wdeft</th>\n",
              "      <th>Etat</th>\n",
              "      <th>Etar</th>\n",
              "      <th>WSIharvest</th>\n",
              "      <th>WSInorm</th>\n",
              "      <th>WSIlat</th>\n",
              "      <th>WSIave</th>\n",
              "      <th>vert</th>\n",
              "      <th>eval</th>\n",
              "      <th>pval</th>\n",
              "      <th>cum</th>\n",
              "      <th>drop</th>\n",
              "    </tr>\n",
              "  </thead>\n",
              "  <tbody>\n",
              "    <tr>\n",
              "      <th>Yield</th>\n",
              "      <td>1.000000</td>\n",
              "      <td>0.589746</td>\n",
              "      <td>0.593293</td>\n",
              "      <td>0.702154</td>\n",
              "      <td>0.647623</td>\n",
              "      <td>0.667486</td>\n",
              "      <td>0.062846</td>\n",
              "      <td>0.667486</td>\n",
              "      <td>0.668458</td>\n",
              "      <td>0.482517</td>\n",
              "      <td>0.123380</td>\n",
              "      <td>0.715293</td>\n",
              "      <td>0.394247</td>\n",
              "      <td>0.015817</td>\n",
              "    </tr>\n",
              "    <tr>\n",
              "      <th>Wdefr</th>\n",
              "      <td>0.589746</td>\n",
              "      <td>1.000000</td>\n",
              "      <td>0.987901</td>\n",
              "      <td>0.819986</td>\n",
              "      <td>0.930564</td>\n",
              "      <td>0.983961</td>\n",
              "      <td>-0.198402</td>\n",
              "      <td>0.983961</td>\n",
              "      <td>0.983757</td>\n",
              "      <td>-0.082403</td>\n",
              "      <td>0.093504</td>\n",
              "      <td>0.171801</td>\n",
              "      <td>-0.070912</td>\n",
              "      <td>-0.078870</td>\n",
              "    </tr>\n",
              "    <tr>\n",
              "      <th>Wdeft</th>\n",
              "      <td>0.593293</td>\n",
              "      <td>0.987901</td>\n",
              "      <td>1.000000</td>\n",
              "      <td>0.826688</td>\n",
              "      <td>0.918824</td>\n",
              "      <td>0.988807</td>\n",
              "      <td>-0.216917</td>\n",
              "      <td>0.988807</td>\n",
              "      <td>0.988503</td>\n",
              "      <td>-0.098001</td>\n",
              "      <td>0.064626</td>\n",
              "      <td>0.171395</td>\n",
              "      <td>-0.137282</td>\n",
              "      <td>-0.128292</td>\n",
              "    </tr>\n",
              "    <tr>\n",
              "      <th>Etat</th>\n",
              "      <td>0.702154</td>\n",
              "      <td>0.819986</td>\n",
              "      <td>0.826688</td>\n",
              "      <td>1.000000</td>\n",
              "      <td>0.938744</td>\n",
              "      <td>0.882141</td>\n",
              "      <td>0.013675</td>\n",
              "      <td>0.882141</td>\n",
              "      <td>0.883035</td>\n",
              "      <td>0.021221</td>\n",
              "      <td>0.404140</td>\n",
              "      <td>0.357706</td>\n",
              "      <td>0.075233</td>\n",
              "      <td>0.097261</td>\n",
              "    </tr>\n",
              "    <tr>\n",
              "      <th>Etar</th>\n",
              "      <td>0.647623</td>\n",
              "      <td>0.930564</td>\n",
              "      <td>0.918824</td>\n",
              "      <td>0.938744</td>\n",
              "      <td>1.000000</td>\n",
              "      <td>0.944731</td>\n",
              "      <td>-0.011820</td>\n",
              "      <td>0.944731</td>\n",
              "      <td>0.945540</td>\n",
              "      <td>-0.031074</td>\n",
              "      <td>0.215574</td>\n",
              "      <td>0.237599</td>\n",
              "      <td>0.012256</td>\n",
              "      <td>-0.022768</td>\n",
              "    </tr>\n",
              "    <tr>\n",
              "      <th>WSIharvest</th>\n",
              "      <td>0.667486</td>\n",
              "      <td>0.983961</td>\n",
              "      <td>0.988807</td>\n",
              "      <td>0.882141</td>\n",
              "      <td>0.944731</td>\n",
              "      <td>1.000000</td>\n",
              "      <td>-0.167498</td>\n",
              "      <td>1.000000</td>\n",
              "      <td>0.999985</td>\n",
              "      <td>-0.031135</td>\n",
              "      <td>0.155135</td>\n",
              "      <td>0.266288</td>\n",
              "      <td>-0.050847</td>\n",
              "      <td>-0.038255</td>\n",
              "    </tr>\n",
              "    <tr>\n",
              "      <th>WSInorm</th>\n",
              "      <td>0.062846</td>\n",
              "      <td>-0.198402</td>\n",
              "      <td>-0.216917</td>\n",
              "      <td>0.013675</td>\n",
              "      <td>-0.011820</td>\n",
              "      <td>-0.167498</td>\n",
              "      <td>1.000000</td>\n",
              "      <td>-0.167498</td>\n",
              "      <td>-0.162031</td>\n",
              "      <td>0.321796</td>\n",
              "      <td>-0.131341</td>\n",
              "      <td>0.307307</td>\n",
              "      <td>0.218180</td>\n",
              "      <td>0.249032</td>\n",
              "    </tr>\n",
              "    <tr>\n",
              "      <th>WSIlat</th>\n",
              "      <td>0.667486</td>\n",
              "      <td>0.983961</td>\n",
              "      <td>0.988807</td>\n",
              "      <td>0.882141</td>\n",
              "      <td>0.944731</td>\n",
              "      <td>1.000000</td>\n",
              "      <td>-0.167498</td>\n",
              "      <td>1.000000</td>\n",
              "      <td>0.999985</td>\n",
              "      <td>-0.031135</td>\n",
              "      <td>0.155135</td>\n",
              "      <td>0.266288</td>\n",
              "      <td>-0.050847</td>\n",
              "      <td>-0.038255</td>\n",
              "    </tr>\n",
              "    <tr>\n",
              "      <th>WSIave</th>\n",
              "      <td>0.668458</td>\n",
              "      <td>0.983757</td>\n",
              "      <td>0.988503</td>\n",
              "      <td>0.883035</td>\n",
              "      <td>0.945540</td>\n",
              "      <td>0.999985</td>\n",
              "      <td>-0.162031</td>\n",
              "      <td>0.999985</td>\n",
              "      <td>1.000000</td>\n",
              "      <td>-0.029355</td>\n",
              "      <td>0.154540</td>\n",
              "      <td>0.268263</td>\n",
              "      <td>-0.049667</td>\n",
              "      <td>-0.036890</td>\n",
              "    </tr>\n",
              "    <tr>\n",
              "      <th>vert</th>\n",
              "      <td>0.482517</td>\n",
              "      <td>-0.082403</td>\n",
              "      <td>-0.098001</td>\n",
              "      <td>0.021221</td>\n",
              "      <td>-0.031074</td>\n",
              "      <td>-0.031135</td>\n",
              "      <td>0.321796</td>\n",
              "      <td>-0.031135</td>\n",
              "      <td>-0.029355</td>\n",
              "      <td>1.000000</td>\n",
              "      <td>0.034177</td>\n",
              "      <td>0.810947</td>\n",
              "      <td>0.334222</td>\n",
              "      <td>0.402460</td>\n",
              "    </tr>\n",
              "    <tr>\n",
              "      <th>eval</th>\n",
              "      <td>0.123380</td>\n",
              "      <td>0.093504</td>\n",
              "      <td>0.064626</td>\n",
              "      <td>0.404140</td>\n",
              "      <td>0.215574</td>\n",
              "      <td>0.155135</td>\n",
              "      <td>-0.131341</td>\n",
              "      <td>0.155135</td>\n",
              "      <td>0.154540</td>\n",
              "      <td>0.034177</td>\n",
              "      <td>1.000000</td>\n",
              "      <td>0.155685</td>\n",
              "      <td>0.152641</td>\n",
              "      <td>0.659726</td>\n",
              "    </tr>\n",
              "    <tr>\n",
              "      <th>pval</th>\n",
              "      <td>0.715293</td>\n",
              "      <td>0.171801</td>\n",
              "      <td>0.171395</td>\n",
              "      <td>0.357706</td>\n",
              "      <td>0.237599</td>\n",
              "      <td>0.266288</td>\n",
              "      <td>0.307307</td>\n",
              "      <td>0.266288</td>\n",
              "      <td>0.268263</td>\n",
              "      <td>0.810947</td>\n",
              "      <td>0.155685</td>\n",
              "      <td>1.000000</td>\n",
              "      <td>0.564102</td>\n",
              "      <td>0.307391</td>\n",
              "    </tr>\n",
              "    <tr>\n",
              "      <th>cum</th>\n",
              "      <td>0.394247</td>\n",
              "      <td>-0.070912</td>\n",
              "      <td>-0.137282</td>\n",
              "      <td>0.075233</td>\n",
              "      <td>0.012256</td>\n",
              "      <td>-0.050847</td>\n",
              "      <td>0.218180</td>\n",
              "      <td>-0.050847</td>\n",
              "      <td>-0.049667</td>\n",
              "      <td>0.334222</td>\n",
              "      <td>0.152641</td>\n",
              "      <td>0.564102</td>\n",
              "      <td>1.000000</td>\n",
              "      <td>0.121981</td>\n",
              "    </tr>\n",
              "    <tr>\n",
              "      <th>drop</th>\n",
              "      <td>0.015817</td>\n",
              "      <td>-0.078870</td>\n",
              "      <td>-0.128292</td>\n",
              "      <td>0.097261</td>\n",
              "      <td>-0.022768</td>\n",
              "      <td>-0.038255</td>\n",
              "      <td>0.249032</td>\n",
              "      <td>-0.038255</td>\n",
              "      <td>-0.036890</td>\n",
              "      <td>0.402460</td>\n",
              "      <td>0.659726</td>\n",
              "      <td>0.307391</td>\n",
              "      <td>0.121981</td>\n",
              "      <td>1.000000</td>\n",
              "    </tr>\n",
              "  </tbody>\n",
              "</table>\n",
              "</div>"
            ],
            "text/plain": [
              "               Yield     Wdefr     Wdeft  ...      pval      cum       drop\n",
              "Yield       1.000000  0.589746  0.593293  ...  0.715293  0.394247  0.015817\n",
              "Wdefr       0.589746  1.000000  0.987901  ...  0.171801 -0.070912 -0.078870\n",
              "Wdeft       0.593293  0.987901  1.000000  ...  0.171395 -0.137282 -0.128292\n",
              "Etat        0.702154  0.819986  0.826688  ...  0.357706  0.075233  0.097261\n",
              "Etar        0.647623  0.930564  0.918824  ...  0.237599  0.012256 -0.022768\n",
              "WSIharvest  0.667486  0.983961  0.988807  ...  0.266288 -0.050847 -0.038255\n",
              "WSInorm     0.062846 -0.198402 -0.216917  ...  0.307307  0.218180  0.249032\n",
              "WSIlat      0.667486  0.983961  0.988807  ...  0.266288 -0.050847 -0.038255\n",
              "WSIave      0.668458  0.983757  0.988503  ...  0.268263 -0.049667 -0.036890\n",
              "vert        0.482517 -0.082403 -0.098001  ...  0.810947  0.334222  0.402460\n",
              "eval        0.123380  0.093504  0.064626  ...  0.155685  0.152641  0.659726\n",
              "pval        0.715293  0.171801  0.171395  ...  1.000000  0.564102  0.307391\n",
              "cum         0.394247 -0.070912 -0.137282  ...  0.564102  1.000000  0.121981\n",
              "drop        0.015817 -0.078870 -0.128292  ...  0.307391  0.121981  1.000000\n",
              "\n",
              "[14 rows x 14 columns]"
            ]
          },
          "metadata": {
            "tags": []
          },
          "execution_count": 56
        }
      ]
    },
    {
      "cell_type": "markdown",
      "metadata": {
        "id": "x49-TeArP8V_"
      },
      "source": [
        "Korelasyon katsayısı 1'e yaklaştıkça ilişki düzeyi artarken, -1'e yaklaştıkça ilişki düzeyi zayıflamaktadır.\n",
        "\n",
        "Korelasyon katsayısı “-1” ve “+1” arasında değişen değerler alır.\n",
        "\n",
        "• r= -1 ise tam negatif doğrusal bir ilişki vardır.\n",
        "\n",
        "• r= +1 ise tam pozitif doğrusal bir ilişki vardır.\n",
        "\n",
        "• r= 0 ise iki değişken arasında ilişki yoktur."
      ]
    },
    {
      "cell_type": "code",
      "metadata": {
        "colab": {
          "base_uri": "https://localhost:8080/",
          "height": 443
        },
        "id": "dFJkmt87QcGr",
        "outputId": "360492a0-3d51-438a-8012-bd808d37741d"
      },
      "source": [
        "plt.figure(figsize = (12,6))\n",
        "sns.heatmap(data.corr(), annot = True)"
      ],
      "execution_count": null,
      "outputs": [
        {
          "output_type": "execute_result",
          "data": {
            "text/plain": [
              "<matplotlib.axes._subplots.AxesSubplot at 0x7f13a20be410>"
            ]
          },
          "metadata": {
            "tags": []
          },
          "execution_count": 34
        },
        {
          "output_type": "display_data",
          "data": {
            "image/png": "[encoded data removed]",
            "text/plain": [
              "<Figure size 864x432 with 2 Axes>"
            ]
          },
          "metadata": {
            "tags": [],
            "needs_background": "light"
          }
        }
      ]
    },
    {
      "cell_type": "code",
      "metadata": {
        "colab": {
          "base_uri": "https://localhost:8080/",
          "height": 285
        },
        "id": "0K5XyA-1Qn9b",
        "outputId": "50c255f3-c79f-42d9-de51-0be7002d94e4"
      },
      "source": [
        "plt.scatter(data[\"pval\"], data[\"Yield\"])"
      ],
      "execution_count": null,
      "outputs": [
        {
          "output_type": "execute_result",
          "data": {
            "text/plain": [
              "<matplotlib.collections.PathCollection at 0x7f13974dbc10>"
            ]
          },
          "metadata": {
            "tags": []
          },
          "execution_count": 45
        },
        {
          "output_type": "display_data",
          "data": {
            "image/png": "[encoded data removed]",
            "text/plain": [
              "<Figure size 432x288 with 1 Axes>"
            ]
          },
          "metadata": {
            "tags": [],
            "needs_background": "light"
          }
        }
      ]
    },
    {
      "cell_type": "code",
      "metadata": {
        "colab": {
          "base_uri": "https://localhost:8080/",
          "height": 282
        },
        "id": "KpFqbGk6RUnS",
        "outputId": "e23a72c3-da13-4f81-c80e-04199ec57b89"
      },
      "source": [
        "#Seaborn ile yapsaydık\n",
        "ax = sns.scatterplot(x='pval', y='Yield', data=data)\n"
      ],
      "execution_count": null,
      "outputs": [
        {
          "output_type": "display_data",
          "data": {
            "image/png": "[encoded data removed]",
            "text/plain": [
              "<Figure size 432x288 with 1 Axes>"
            ]
          },
          "metadata": {
            "tags": [],
            "needs_background": "light"
          }
        }
      ]
    },
    {
      "cell_type": "code",
      "metadata": {
        "colab": {
          "base_uri": "https://localhost:8080/",
          "height": 1000
        },
        "id": "msvcbsp3L8sa",
        "outputId": "7307eaaa-2439-4188-d905-b91ec496f8b0"
      },
      "source": [
        "%matplotlib inline\n",
        "import seaborn as sns; sns.set()\n",
        "sns.pairplot(data, size=1.5);"
      ],
      "execution_count": null,
      "outputs": [
        {
          "output_type": "stream",
          "text": [
            "/usr/local/lib/python3.7/dist-packages/seaborn/axisgrid.py:1969: UserWarning: The `size` parameter has been renamed to `height`; please update your code.\n",
            "  warnings.warn(msg, UserWarning)\n"
          ],
          "name": "stderr"
        },
        {
          "output_type": "display_data",
          "data": {
            "image/png": "[encoded data removed]",
            "text/plain": [
              "<Figure size 1512x1512 with 210 Axes>"
            ]
          },
          "metadata": {
            "tags": []
          }
        }
      ]
    },
    {
      "cell_type": "markdown",
      "metadata": {
        "id": "kS6Q3rlMQ7Sz"
      },
      "source": [
        "Daha fazlası için \n",
        "\n",
        "https://matplotlib.org/stable/api/_as_gen/matplotlib.pyplot.html"
      ]
    },
    {
      "cell_type": "code",
      "metadata": {
        "colab": {
          "base_uri": "https://localhost:8080/",
          "height": 608
        },
        "id": "C6EBmEVbwrA4",
        "outputId": "b9c80cc7-15b5-4b0c-da7c-6e74cc3fb622"
      },
      "source": [
        "# Normallik için bir değişkene bakalım\n",
        "import statsmodels.api as sm\n",
        "import pylab as py\n",
        "\n",
        "\n",
        "sm.qqplot(data[\"Yield\"], line ='45')\n",
        "py.show()\n",
        "\n",
        "sm.qqplot(data[\"pval\"], line ='45')\n",
        "py.show()"
      ],
      "execution_count": null,
      "outputs": [
        {
          "output_type": "stream",
          "text": [
            "/usr/local/lib/python3.7/dist-packages/statsmodels/tools/_testing.py:19: FutureWarning: pandas.util.testing is deprecated. Use the functions in the public API at pandas.testing instead.\n",
            "  import pandas.util.testing as tm\n"
          ],
          "name": "stderr"
        },
        {
          "output_type": "display_data",
          "data": {
            "image/png": "[encoded data removed]",
            "text/plain": [
              "<Figure size 432x288 with 1 Axes>"
            ]
          },
          "metadata": {
            "tags": []
          }
        },
        {
          "output_type": "display_data",
          "data": {
            "image/png": "[encoded data removed]",
            "text/plain": [
              "<Figure size 432x288 with 1 Axes>"
            ]
          },
          "metadata": {
            "tags": []
          }
        }
      ]
    },
    {
      "cell_type": "code",
      "metadata": {
        "colab": {
          "base_uri": "https://localhost:8080/",
          "height": 541
        },
        "id": "rnNxyELSxNNE",
        "outputId": "b939796f-a709-43a3-dd49-b250486ade5a"
      },
      "source": [
        "import seaborn as sns\n",
        "# sns.set_theme(style=\"whitegrid\")\n",
        "ax = sns.boxplot(x=data[\"Yield\"])\n",
        "py.show()\n",
        "ax = sns.boxplot(x=data[\"pval\"])\n",
        "py.show()"
      ],
      "execution_count": null,
      "outputs": [
        {
          "output_type": "display_data",
          "data": {
            "image/png": "[encoded data removed]",
            "text/plain": [
              "<Figure size 432x288 with 1 Axes>"
            ]
          },
          "metadata": {
            "tags": [],
            "needs_background": "light"
          }
        },
        {
          "output_type": "display_data",
          "data": {
            "image/png": "[encoded data removed]",
            "text/plain": [
              "<Figure size 432x288 with 1 Axes>"
            ]
          },
          "metadata": {
            "tags": [],
            "needs_background": "light"
          }
        }
      ]
    },
    {
      "cell_type": "code",
      "metadata": {
        "colab": {
          "base_uri": "https://localhost:8080/",
          "height": 268
        },
        "id": "8M8tRAuZxhh4",
        "outputId": "58f62d43-c716-4162-fed3-4e2f363d8b42"
      },
      "source": [
        "ax = sns.boxplot(data=data, orient=\"h\", palette=\"Set2\")"
      ],
      "execution_count": null,
      "outputs": [
        {
          "output_type": "display_data",
          "data": {
            "image/png": "[encoded data removed]",
            "text/plain": [
              "<Figure size 432x288 with 1 Axes>"
            ]
          },
          "metadata": {
            "tags": []
          }
        }
      ]
    },
    {
      "cell_type": "code",
      "metadata": {
        "colab": {
          "base_uri": "https://localhost:8080/",
          "height": 601
        },
        "id": "nOrou45NXhkF",
        "outputId": "e31cc4a5-05be-4f62-d177-e5a432447834"
      },
      "source": [
        "data[[\"Yield\", \"pval\"]]\n"
      ],
      "execution_count": null,
      "outputs": [
        {
          "output_type": "execute_result",
          "data": {
            "text/html": [
              "<div>\n",
              "<style scoped>\n",
              "    .dataframe tbody tr th:only-of-type {\n",
              "        vertical-align: middle;\n",
              "    }\n",
              "\n",
              "    .dataframe tbody tr th {\n",
              "        vertical-align: top;\n",
              "    }\n",
              "\n",
              "    .dataframe thead th {\n",
              "        text-align: right;\n",
              "    }\n",
              "</style>\n",
              "<table border=\"1\" class=\"dataframe\">\n",
              "  <thead>\n",
              "    <tr style=\"text-align: right;\">\n",
              "      <th></th>\n",
              "      <th>Yield</th>\n",
              "      <th>pval</th>\n",
              "    </tr>\n",
              "    <tr>\n",
              "      <th>YEAR</th>\n",
              "      <th></th>\n",
              "      <th></th>\n",
              "    </tr>\n",
              "  </thead>\n",
              "  <tbody>\n",
              "    <tr>\n",
              "      <th>1991</th>\n",
              "      <td>2.446597</td>\n",
              "      <td>145</td>\n",
              "    </tr>\n",
              "    <tr>\n",
              "      <th>1992</th>\n",
              "      <td>1.474336</td>\n",
              "      <td>111</td>\n",
              "    </tr>\n",
              "    <tr>\n",
              "      <th>1993</th>\n",
              "      <td>1.923540</td>\n",
              "      <td>134</td>\n",
              "    </tr>\n",
              "    <tr>\n",
              "      <th>1994</th>\n",
              "      <td>1.510862</td>\n",
              "      <td>144</td>\n",
              "    </tr>\n",
              "    <tr>\n",
              "      <th>1995</th>\n",
              "      <td>1.707505</td>\n",
              "      <td>128</td>\n",
              "    </tr>\n",
              "    <tr>\n",
              "      <th>1996</th>\n",
              "      <td>1.821175</td>\n",
              "      <td>123</td>\n",
              "    </tr>\n",
              "    <tr>\n",
              "      <th>1997</th>\n",
              "      <td>1.919765</td>\n",
              "      <td>137</td>\n",
              "    </tr>\n",
              "    <tr>\n",
              "      <th>1998</th>\n",
              "      <td>2.733379</td>\n",
              "      <td>144</td>\n",
              "    </tr>\n",
              "    <tr>\n",
              "      <th>1999</th>\n",
              "      <td>1.852614</td>\n",
              "      <td>158</td>\n",
              "    </tr>\n",
              "    <tr>\n",
              "      <th>2000</th>\n",
              "      <td>2.521573</td>\n",
              "      <td>164</td>\n",
              "    </tr>\n",
              "    <tr>\n",
              "      <th>2001</th>\n",
              "      <td>1.859124</td>\n",
              "      <td>136</td>\n",
              "    </tr>\n",
              "    <tr>\n",
              "      <th>2002</th>\n",
              "      <td>2.317106</td>\n",
              "      <td>146</td>\n",
              "    </tr>\n",
              "    <tr>\n",
              "      <th>2003</th>\n",
              "      <td>2.167610</td>\n",
              "      <td>155</td>\n",
              "    </tr>\n",
              "    <tr>\n",
              "      <th>2004</th>\n",
              "      <td>2.014000</td>\n",
              "      <td>140</td>\n",
              "    </tr>\n",
              "    <tr>\n",
              "      <th>2005</th>\n",
              "      <td>2.243205</td>\n",
              "      <td>157</td>\n",
              "    </tr>\n",
              "    <tr>\n",
              "      <th>2006</th>\n",
              "      <td>2.282206</td>\n",
              "      <td>150</td>\n",
              "    </tr>\n",
              "    <tr>\n",
              "      <th>2007</th>\n",
              "      <td>1.221462</td>\n",
              "      <td>109</td>\n",
              "    </tr>\n",
              "  </tbody>\n",
              "</table>\n",
              "</div>"
            ],
            "text/plain": [
              "         Yield  pval\n",
              "YEAR                \n",
              "1991  2.446597   145\n",
              "1992  1.474336   111\n",
              "1993  1.923540   134\n",
              "1994  1.510862   144\n",
              "1995  1.707505   128\n",
              "1996  1.821175   123\n",
              "1997  1.919765   137\n",
              "1998  2.733379   144\n",
              "1999  1.852614   158\n",
              "2000  2.521573   164\n",
              "2001  1.859124   136\n",
              "2002  2.317106   146\n",
              "2003  2.167610   155\n",
              "2004  2.014000   140\n",
              "2005  2.243205   157\n",
              "2006  2.282206   150\n",
              "2007  1.221462   109"
            ]
          },
          "metadata": {
            "tags": []
          },
          "execution_count": 49
        }
      ]
    },
    {
      "cell_type": "code",
      "metadata": {
        "colab": {
          "base_uri": "https://localhost:8080/"
        },
        "id": "3qhDy1BrY0xh",
        "outputId": "3bbe7797-8f83-4c6f-ad09-0169fc1debf5"
      },
      "source": [
        "# İlgili kütüphanelerden gerekli fonksiyonlar\n",
        "from sklearn.model_selection import train_test_split\n",
        "from sklearn.linear_model import LinearRegression\n",
        "from sklearn.metrics import mean_absolute_error\n",
        "\n",
        "# girdi ve çıktı değişkenlerinin tanımlanması\n",
        "X, y = data[\"pval\"], data[\"Yield\"]\n",
        "\n",
        "# Değişkenlerin standard halet getirilmesi\n",
        "\n",
        "X_train, X_test, y_train, y_test = train_test_split(X, y, test_size=0.3, random_state=1, shuffle = False)\n",
        "print(X_train)\n",
        "X_test"
      ],
      "execution_count": null,
      "outputs": [
        {
          "output_type": "stream",
          "text": [
            "YEAR\n",
            "1991    145\n",
            "1992    111\n",
            "1993    134\n",
            "1994    144\n",
            "1995    128\n",
            "1996    123\n",
            "1997    137\n",
            "1998    144\n",
            "1999    158\n",
            "2000    164\n",
            "2001    136\n",
            "Name: pval, dtype: int64\n"
          ],
          "name": "stdout"
        },
        {
          "output_type": "execute_result",
          "data": {
            "text/plain": [
              "YEAR\n",
              "2002    146\n",
              "2003    155\n",
              "2004    140\n",
              "2005    157\n",
              "2006    150\n",
              "2007    109\n",
              "Name: pval, dtype: int64"
            ]
          },
          "metadata": {
            "tags": []
          },
          "execution_count": 57
        }
      ]
    },
    {
      "cell_type": "code",
      "metadata": {
        "id": "nvF5Sb-JQ4yO"
      },
      "source": [
        "X_train, X_test, y_train, y_test = np.array(X_train).reshape((-1, 1)), np.array(X_test).reshape((-1, 1)), np.array(y_train).reshape((-1, 1)), np.array(y_test).reshape((-1, 1))"
      ],
      "execution_count": null,
      "outputs": []
    },
    {
      "cell_type": "code",
      "metadata": {
        "colab": {
          "base_uri": "https://localhost:8080/"
        },
        "id": "QS1sxSAfob4c",
        "outputId": "ddb7d2c6-8555-48cc-f609-c2ddeac63ff2"
      },
      "source": [
        "# fit the model\n",
        "model = LinearRegression()\n",
        "\n",
        "# Verinin şeklini uygun hale getirmek adına \n",
        "# np.array(X_train).reshape((-1, 1))\n",
        "\n",
        "fit = model.fit(np.array(X_train).reshape((-1, 1)), np.array(y_train).reshape((-1, 1)))\n",
        "\n",
        "print('intercept:', fit.intercept_)\n",
        "print('slope:', fit.coef_)"
      ],
      "execution_count": null,
      "outputs": [
        {
          "output_type": "stream",
          "text": [
            "intercept: [-0.20696556]\n",
            "slope: [[0.01577893]]\n"
          ],
          "name": "stdout"
        }
      ]
    },
    {
      "cell_type": "code",
      "metadata": {
        "colab": {
          "base_uri": "https://localhost:8080/"
        },
        "id": "KYq0q7mz3G8V",
        "outputId": "a3ce5be9-dfb5-4af4-c664-a84409e61566"
      },
      "source": [
        "# fit the model\n",
        "model = LinearRegression(normalize=True)\n",
        "model.fit(np.array(X_train).reshape((-1, 1)), np.array(y_train).reshape((-1, 1)))\n",
        "# evaluate the model\n",
        "yhat = model.predict(np.array(X_test).reshape((-1, 1)))\n",
        "# evaluate predictions\n",
        "mae = mean_absolute_error(y_test, yhat)\n",
        "print('MAE: %.3f' % mae)"
      ],
      "execution_count": null,
      "outputs": [
        {
          "output_type": "stream",
          "text": [
            "MAE: 0.124\n"
          ],
          "name": "stdout"
        }
      ]
    },
    {
      "cell_type": "code",
      "metadata": {
        "colab": {
          "base_uri": "https://localhost:8080/"
        },
        "id": "AGfbJZ0dQrdQ",
        "outputId": "15babda0-7681-4aa1-e62b-ca960d858d96"
      },
      "source": [
        "\n",
        "print(\"Score of the train set\",model.score(X_train,y_train))\n",
        "print(\"Score of the test set\",model.score(X_test,y_test))\n",
        "\n"
      ],
      "execution_count": null,
      "outputs": [
        {
          "output_type": "stream",
          "text": [
            "Score of the train set 0.3339365654505363\n",
            "Score of the test set 0.821214627467359\n"
          ],
          "name": "stdout"
        }
      ]
    },
    {
      "cell_type": "code",
      "metadata": {
        "colab": {
          "base_uri": "https://localhost:8080/"
        },
        "id": "Iim3_DtfRN1C",
        "outputId": "31736c48-41d9-48a9-f2fc-806ed0af84e9"
      },
      "source": [
        "#Define adjusted R square tanımı\n",
        "\n",
        "def adj_r2 (X,y,model):\n",
        "    r_squared = model.score(X,y)\n",
        "    return(1 - (1-r_squared)*(len(y)-1)/(len(y)-X.shape[1]-1))\n",
        "\n",
        "print(\"Adj. R2 of the train set\",adj_r2(X_train,y_train,model))\n",
        "print(\"Adj. R2 of the test set\",adj_r2(X_test,y_test,model))"
      ],
      "execution_count": null,
      "outputs": [
        {
          "output_type": "stream",
          "text": [
            "Adj. R2 of the train set 0.25992951716726254\n",
            "Adj. R2 of the test set 0.7765182843341987\n"
          ],
          "name": "stdout"
        }
      ]
    },
    {
      "cell_type": "code",
      "metadata": {
        "colab": {
          "base_uri": "https://localhost:8080/"
        },
        "id": "NxhJLLq0SjIf",
        "outputId": "fac93059-169b-4948-ee13-0029425dbd00"
      },
      "source": [
        "# alternatif olarak sm.OLS\n",
        "model = sm.OLS(y, X).fit()\n",
        "predictions = model.predict(X)\n",
        "\n",
        "print(model.params)\n",
        "# Model özet istatistikleri\n",
        "print(model.summary())"
      ],
      "execution_count": null,
      "outputs": [
        {
          "output_type": "stream",
          "text": [
            "pval    0.014334\n",
            "dtype: float64\n",
            "                                 OLS Regression Results                                \n",
            "=======================================================================================\n",
            "Dep. Variable:                  Yield   R-squared (uncentered):                   0.981\n",
            "Model:                            OLS   Adj. R-squared (uncentered):              0.980\n",
            "Method:                 Least Squares   F-statistic:                              840.9\n",
            "Date:                Sat, 29 May 2021   Prob (F-statistic):                    2.93e-15\n",
            "Time:                        12:24:49   Log-Likelihood:                         -2.3928\n",
            "No. Observations:                  17   AIC:                                      6.786\n",
            "Df Residuals:                      16   BIC:                                      7.619\n",
            "Df Model:                           1                                                  \n",
            "Covariance Type:            nonrobust                                                  \n",
            "==============================================================================\n",
            "                 coef    std err          t      P>|t|      [0.025      0.975]\n",
            "------------------------------------------------------------------------------\n",
            "pval           0.0143      0.000     28.997      0.000       0.013       0.015\n",
            "==============================================================================\n",
            "Omnibus:                        1.839   Durbin-Watson:                   2.498\n",
            "Prob(Omnibus):                  0.399   Jarque-Bera (JB):                0.467\n",
            "Skew:                           0.303   Prob(JB):                        0.792\n",
            "Kurtosis:                       3.541   Cond. No.                         1.00\n",
            "==============================================================================\n",
            "\n",
            "Warnings:\n",
            "[1] Standard Errors assume that the covariance matrix of the errors is correctly specified.\n"
          ],
          "name": "stdout"
        },
        {
          "output_type": "stream",
          "text": [
            "/usr/local/lib/python3.7/dist-packages/scipy/stats/stats.py:1535: UserWarning: kurtosistest only valid for n>=20 ... continuing anyway, n=17\n",
            "  \"anyway, n=%i\" % int(n))\n"
          ],
          "name": "stderr"
        }
      ]
    },
    {
      "cell_type": "code",
      "metadata": {
        "colab": {
          "base_uri": "https://localhost:8080/"
        },
        "id": "TMVNh_IBOllX",
        "outputId": "38bf814b-b565-4967-dfbc-50ef2022add3"
      },
      "source": [
        "y_pred = model.predict(np.array(X).reshape((-1, 1)))\n",
        "print('predicted response:', y_pred, sep='\\n')"
      ],
      "execution_count": null,
      "outputs": [
        {
          "output_type": "stream",
          "text": [
            "predicted response:\n",
            "[[2.34344569]\n",
            " [1.96909427]\n",
            " [1.97497413]\n",
            " [1.34050867]\n",
            " [1.9066557 ]\n",
            " [1.83945724]\n",
            " [2.28380706]\n",
            " [2.41904396]\n",
            " [1.88733614]\n",
            " [2.10573114]\n",
            " [1.51354471]\n",
            " [2.12421071]\n",
            " [1.62610213]\n",
            " [1.70842024]\n",
            " [2.35016554]\n",
            " [2.0376927 ]\n",
            " [1.86549664]]\n"
          ],
          "name": "stdout"
        }
      ]
    },
    {
      "cell_type": "code",
      "metadata": {
        "colab": {
          "base_uri": "https://localhost:8080/"
        },
        "id": "AGBvPwKePQtI",
        "outputId": "728a72c3-146b-4831-f6a2-6ab0ee2fa3a3"
      },
      "source": [
        "# Model üzerinden hesaplamak da mümkün \n",
        "y_pred = fit.intercept_ + fit.coef_ * np.array(X).reshape((-1, 1))\n",
        "print('predicted response:', y_pred, sep='\\n')"
      ],
      "execution_count": null,
      "outputs": [
        {
          "output_type": "stream",
          "text": [
            "predicted response:\n",
            "[[2.34344569]\n",
            " [1.96909427]\n",
            " [1.97497413]\n",
            " [1.34050867]\n",
            " [1.9066557 ]\n",
            " [1.83945724]\n",
            " [2.28380706]\n",
            " [2.41904396]\n",
            " [1.88733614]\n",
            " [2.10573114]\n",
            " [1.51354471]\n",
            " [2.12421071]\n",
            " [1.62610213]\n",
            " [1.70842024]\n",
            " [2.35016554]\n",
            " [2.0376927 ]\n",
            " [1.86549664]]\n"
          ],
          "name": "stdout"
        }
      ]
    },
    {
      "cell_type": "code",
      "metadata": {
        "colab": {
          "base_uri": "https://localhost:8080/"
        },
        "id": "RCaWjIWAMh3s",
        "outputId": "11c91cdc-1917-48c7-eea9-fbdd32bde7d5"
      },
      "source": [
        "# Tamamı ile yola çıkarsak \n",
        "print(data.shape)\n",
        "\n",
        "X_feat = data.drop('Yield', axis=1)\n",
        "X_feat.shape\n",
        "\n",
        "y_target = data['Yield']\n",
        "y_target.shape"
      ],
      "execution_count": null,
      "outputs": [
        {
          "output_type": "stream",
          "text": [
            "(17, 14)\n"
          ],
          "name": "stdout"
        },
        {
          "output_type": "execute_result",
          "data": {
            "text/plain": [
              "(17,)"
            ]
          },
          "metadata": {
            "tags": []
          },
          "execution_count": 50
        }
      ]
    },
    {
      "cell_type": "code",
      "metadata": {
        "id": "LT_ZHSIvNOQB"
      },
      "source": [
        "from sklearn import preprocessing\n",
        "# normalize the data attributes\n",
        "normalized_feat = preprocessing.normalize(X_feat)\n",
        "print(\"Normalized Data = \", normalized_feat)"
      ],
      "execution_count": null,
      "outputs": []
    },
    {
      "cell_type": "code",
      "metadata": {
        "id": "jVe8RLDmPJp2"
      },
      "source": [
        "normalized_targ = preprocessing.normalize(np.array(y_target).reshape((-1, 1)))"
      ],
      "execution_count": null,
      "outputs": []
    },
    {
      "cell_type": "code",
      "metadata": {
        "colab": {
          "base_uri": "https://localhost:8080/"
        },
        "id": "djFWXBXAOBjr",
        "outputId": "859c4d0f-2504-4010-b2f0-05f6da7308dd"
      },
      "source": [
        "# alternatif olarak sm.OLS\n",
        "print(normalized_targ.shape)\n",
        "print(normalized_feat.shape)\n",
        "model = sm.OLS(normalized_targ, normalized_feat).fit()\n",
        "predictions = model.predict(normalized_feat)\n",
        "\n",
        "print(model.params)\n",
        "# Model özet istatistikleri\n",
        "print(model.summary())"
      ],
      "execution_count": null,
      "outputs": [
        {
          "output_type": "stream",
          "text": [
            "(17, 1)\n",
            "(17, 13)\n",
            "[-0.33718849 -0.96229898 -0.09322318  0.85365823  2.01808372 -2.66015513\n",
            "  2.01808372  0.45867077 -0.11803151  0.39808702  0.80039931  0.25027804\n",
            " -0.17240247]\n",
            "                                 OLS Regression Results                                \n",
            "=======================================================================================\n",
            "Dep. Variable:                      y   R-squared (uncentered):                   1.000\n",
            "Model:                            OLS   Adj. R-squared (uncentered):              1.000\n",
            "Method:                 Least Squares   F-statistic:                              8274.\n",
            "Date:                Sat, 29 May 2021   Prob (F-statistic):                    1.28e-11\n",
            "Time:                        12:25:42   Log-Likelihood:                          57.708\n",
            "No. Observations:                  17   AIC:                                     -93.42\n",
            "Df Residuals:                       6   BIC:                                     -84.25\n",
            "Df Model:                          11                                                  \n",
            "Covariance Type:            nonrobust                                                  \n",
            "==============================================================================\n",
            "                 coef    std err          t      P>|t|      [0.025      0.975]\n",
            "------------------------------------------------------------------------------\n",
            "x1            -0.3372      0.377     -0.895      0.405      -1.259       0.585\n",
            "x2            -0.9623      0.472     -2.038      0.088      -2.117       0.193\n",
            "x3            -0.0932      0.252     -0.370      0.724      -0.710       0.524\n",
            "x4             0.8537      0.277      3.082      0.022       0.176       1.531\n",
            "x5             2.0181      1.180      1.711      0.138      -0.868       4.905\n",
            "x6            -2.6602      2.176     -1.222      0.267      -7.985       2.664\n",
            "x7             2.0181      1.180      1.711      0.138      -0.868       4.905\n",
            "x8             0.4587      0.125      3.682      0.010       0.154       0.764\n",
            "x9            -0.1180      0.249     -0.475      0.652      -0.726       0.490\n",
            "x10            0.3981      0.107      3.733      0.010       0.137       0.659\n",
            "x11            0.8004      0.388      2.063      0.085      -0.149       1.750\n",
            "x12            0.2503      0.767      0.326      0.755      -1.627       2.128\n",
            "x13           -0.1724      0.185     -0.933      0.387      -0.625       0.280\n",
            "==============================================================================\n",
            "Omnibus:                        0.733   Durbin-Watson:                   2.075\n",
            "Prob(Omnibus):                  0.693   Jarque-Bera (JB):                0.135\n",
            "Skew:                           0.216   Prob(JB):                        0.935\n",
            "Kurtosis:                       3.063   Cond. No.                     4.05e+17\n",
            "==============================================================================\n",
            "\n",
            "Warnings:\n",
            "[1] Standard Errors assume that the covariance matrix of the errors is correctly specified.\n",
            "[2] The smallest eigenvalue is 9.94e-35. This might indicate that there are\n",
            "strong multicollinearity problems or that the design matrix is singular.\n"
          ],
          "name": "stdout"
        },
        {
          "output_type": "stream",
          "text": [
            "/usr/local/lib/python3.7/dist-packages/scipy/stats/stats.py:1535: UserWarning: kurtosistest only valid for n>=20 ... continuing anyway, n=17\n",
            "  \"anyway, n=%i\" % int(n))\n"
          ],
          "name": "stderr"
        }
      ]
    },
    {
      "cell_type": "code",
      "metadata": {
        "colab": {
          "base_uri": "https://localhost:8080/"
        },
        "id": "silR6bNZQ66G",
        "outputId": "e42de1ea-fa94-4637-9fd6-082d0b4921c1"
      },
      "source": [
        "X_feat.info()"
      ],
      "execution_count": null,
      "outputs": [
        {
          "output_type": "stream",
          "text": [
            "<class 'pandas.core.frame.DataFrame'>\n",
            "Int64Index: 17 entries, 1991 to 2007\n",
            "Data columns (total 13 columns):\n",
            " #   Column      Non-Null Count  Dtype  \n",
            "---  ------      --------------  -----  \n",
            " 0   Wdefr       17 non-null     float64\n",
            " 1   Wdeft       17 non-null     float64\n",
            " 2   Etat        17 non-null     float64\n",
            " 3   Etar        17 non-null     float64\n",
            " 4   WSIharvest  17 non-null     float64\n",
            " 5   WSInorm     17 non-null     float64\n",
            " 6   WSIlat      17 non-null     float64\n",
            " 7   WSIave      17 non-null     float64\n",
            " 8   vert        17 non-null     int64  \n",
            " 9   eval        17 non-null     int64  \n",
            " 10  pval        17 non-null     int64  \n",
            " 11  cum         17 non-null     int64  \n",
            " 12  drop        17 non-null     int64  \n",
            "dtypes: float64(8), int64(5)\n",
            "memory usage: 1.9 KB\n"
          ],
          "name": "stdout"
        }
      ]
    },
    {
      "cell_type": "code",
      "metadata": {
        "colab": {
          "base_uri": "https://localhost:8080/"
        },
        "id": "5WH4rESsRItk",
        "outputId": "83b8b0b1-2cda-4559-ee80-7e55ce58188d"
      },
      "source": [
        "X_featnew = X_feat[[\"Etar\", \"WSIave\", \"eval\"]]\n",
        "X_featnew.shape\n",
        "\n",
        "normalized_feat = preprocessing.normalize(X_featnew)\n",
        "normalized_feat\n",
        "\n",
        "#Sadece 3ü ile kurulan bir model olsaydı \n",
        "model = sm.OLS(normalized_targ, normalized_feat).fit()\n",
        "predictions = model.predict(normalized_feat)\n",
        "\n",
        "print(model.params)\n",
        "# Model özet istatistikleri\n",
        "print(model.summary())"
      ],
      "execution_count": null,
      "outputs": [
        {
          "output_type": "stream",
          "text": [
            "[0.5121426  0.86848571 0.43663931]\n",
            "                                 OLS Regression Results                                \n",
            "=======================================================================================\n",
            "Dep. Variable:                      y   R-squared (uncentered):                   0.999\n",
            "Model:                            OLS   Adj. R-squared (uncentered):              0.999\n",
            "Method:                 Least Squares   F-statistic:                              5890.\n",
            "Date:                Sat, 29 May 2021   Prob (F-statistic):                    6.12e-22\n",
            "Time:                        12:26:56   Log-Likelihood:                          36.580\n",
            "No. Observations:                  17   AIC:                                     -67.16\n",
            "Df Residuals:                      14   BIC:                                     -64.66\n",
            "Df Model:                           3                                                  \n",
            "Covariance Type:            nonrobust                                                  \n",
            "==============================================================================\n",
            "                 coef    std err          t      P>|t|      [0.025      0.975]\n",
            "------------------------------------------------------------------------------\n",
            "x1             0.5121      0.046     11.023      0.000       0.412       0.612\n",
            "x2             0.8685      0.070     12.348      0.000       0.718       1.019\n",
            "x3             0.4366      0.036     12.258      0.000       0.360       0.513\n",
            "==============================================================================\n",
            "Omnibus:                        5.392   Durbin-Watson:                   2.243\n",
            "Prob(Omnibus):                  0.067   Jarque-Bera (JB):                2.822\n",
            "Skew:                           0.636   Prob(JB):                        0.244\n",
            "Kurtosis:                       4.539   Cond. No.                         10.8\n",
            "==============================================================================\n",
            "\n",
            "Warnings:\n",
            "[1] Standard Errors assume that the covariance matrix of the errors is correctly specified.\n"
          ],
          "name": "stdout"
        },
        {
          "output_type": "stream",
          "text": [
            "/usr/local/lib/python3.7/dist-packages/scipy/stats/stats.py:1535: UserWarning: kurtosistest only valid for n>=20 ... continuing anyway, n=17\n",
            "  \"anyway, n=%i\" % int(n))\n"
          ],
          "name": "stderr"
        }
      ]
    },
    {
      "cell_type": "code",
      "metadata": {
        "id": "_zIkWM0Bbzc9"
      },
      "source": [
        "# Başlangıç adına nerelere bakılabilir ? \n",
        "# Olmayan bir paketi kütüphaneyi yüklemek adına ;\n",
        "!pip install pingouin"
      ],
      "execution_count": null,
      "outputs": []
    },
    {
      "cell_type": "markdown",
      "metadata": {
        "id": "QOOfpEhob6OG"
      },
      "source": [
        "İstatistik için kullanılabilecek kütüphaneler:\n",
        "\n",
        "https://www.scipy.org/about.html\n",
        "\n",
        "https://pingouin-stats.org/\n",
        "\n",
        "https://www.statsmodels.org/stable/about.html#about-statsmodels\n",
        "\n"
      ]
    },
    {
      "cell_type": "code",
      "metadata": {
        "colab": {
          "base_uri": "https://localhost:8080/",
          "height": 301
        },
        "id": "eoZVhsbUcAQS",
        "outputId": "7f87aa6d-ad61-4059-ba8b-65873d1f007e"
      },
      "source": [
        "import numpy as np\n",
        "import pingouin as pg\n",
        "\n",
        "np.random.seed(123)\n",
        "\n",
        "x = np.random.normal(size=50)\n",
        "\n",
        "ax = pg.qqplot(x, dist='norm')"
      ],
      "execution_count": null,
      "outputs": [
        {
          "output_type": "display_data",
          "data": {
            "image/png": "[encoded data removed]",
            "text/plain": [
              "<Figure size 360x288 with 1 Axes>"
            ]
          },
          "metadata": {
            "tags": []
          }
        }
      ]
    },
    {
      "cell_type": "code",
      "metadata": {
        "colab": {
          "base_uri": "https://localhost:8080/",
          "height": 301
        },
        "id": "-ZAq2LT_c_MU",
        "outputId": "c59e0595-9999-4835-9603-d2c4280a2bf5"
      },
      "source": [
        "ax = pg.qqplot(y_target, dist='norm')"
      ],
      "execution_count": null,
      "outputs": [
        {
          "output_type": "display_data",
          "data": {
            "image/png": "[encoded data removed]",
            "text/plain": [
              "<Figure size 360x288 with 1 Axes>"
            ]
          },
          "metadata": {
            "tags": []
          }
        }
      ]
    },
    {
      "cell_type": "code",
      "metadata": {
        "colab": {
          "base_uri": "https://localhost:8080/",
          "height": 79
        },
        "id": "fQVTfto4dLLM",
        "outputId": "9257bc4b-b1d4-42aa-ced2-929ee2061270"
      },
      "source": [
        "pg.corr(X_feat[\"Etar\"], y_target, method = \"kendall\")"
      ],
      "execution_count": null,
      "outputs": [
        {
          "output_type": "execute_result",
          "data": {
            "text/html": [
              "<div>\n",
              "<style scoped>\n",
              "    .dataframe tbody tr th:only-of-type {\n",
              "        vertical-align: middle;\n",
              "    }\n",
              "\n",
              "    .dataframe tbody tr th {\n",
              "        vertical-align: top;\n",
              "    }\n",
              "\n",
              "    .dataframe thead th {\n",
              "        text-align: right;\n",
              "    }\n",
              "</style>\n",
              "<table border=\"1\" class=\"dataframe\">\n",
              "  <thead>\n",
              "    <tr style=\"text-align: right;\">\n",
              "      <th></th>\n",
              "      <th>n</th>\n",
              "      <th>r</th>\n",
              "      <th>CI95%</th>\n",
              "      <th>p-val</th>\n",
              "      <th>power</th>\n",
              "    </tr>\n",
              "  </thead>\n",
              "  <tbody>\n",
              "    <tr>\n",
              "      <th>kendall</th>\n",
              "      <td>17</td>\n",
              "      <td>0.367647</td>\n",
              "      <td>[-0.14, 0.72]</td>\n",
              "      <td>0.042171</td>\n",
              "      <td>0.315488</td>\n",
              "    </tr>\n",
              "  </tbody>\n",
              "</table>\n",
              "</div>"
            ],
            "text/plain": [
              "          n         r          CI95%     p-val     power\n",
              "kendall  17  0.367647  [-0.14, 0.72]  0.042171  0.315488"
            ]
          },
          "metadata": {
            "tags": []
          },
          "execution_count": 81
        }
      ]
    }
  ]
}